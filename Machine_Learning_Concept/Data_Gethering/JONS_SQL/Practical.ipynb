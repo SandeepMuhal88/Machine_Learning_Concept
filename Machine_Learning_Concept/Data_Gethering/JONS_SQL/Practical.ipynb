{
 "cells": [
  {
   "cell_type": "code",
   "execution_count": 1,
   "metadata": {},
   "outputs": [],
   "source": [
    "import pandas as pd\n",
    "import numpy as np\n",
    "# %pip install kagglehub"
   ]
  },
  {
   "cell_type": "code",
   "execution_count": 2,
   "metadata": {},
   "outputs": [
    {
     "name": "stdout",
     "output_type": "stream",
     "text": [
      "Path to dataset files: C:\\Users\\sande\\.cache\\kagglehub\\datasets\\busielmorley\\worldcities-pop-lang-rank-sql-create-tbls\\versions\\1\n"
     ]
    }
   ],
   "source": [
    "\n",
    "import kagglehub\n",
    "\n",
    "# Download latest version\n",
    "path = kagglehub.dataset_download(\"busielmorley/worldcities-pop-lang-rank-sql-create-tbls\")\n",
    "\n",
    "print(\"Path to dataset files:\", path)"
   ]
  },
  {
   "cell_type": "code",
   "execution_count": 3,
   "metadata": {},
   "outputs": [
    {
     "name": "stdout",
     "output_type": "stream",
     "text": [
      "THe directory name ['world.sql']\n"
     ]
    }
   ],
   "source": [
    "import os \n",
    "\n",
    "print(\"THe directory name\",os.listdir(path))"
   ]
  },
  {
   "cell_type": "code",
   "execution_count": null,
   "metadata": {},
   "outputs": [],
   "source": []
  },
  {
   "cell_type": "code",
   "execution_count": 4,
   "metadata": {},
   "outputs": [
    {
     "data": {
      "application/vnd.microsoft.datawrangler.viewer.v0+json": {
       "columns": [
        {
         "name": "index",
         "rawType": "int64",
         "type": "integer"
        },
        {
         "name": "id",
         "rawType": "int64",
         "type": "integer"
        },
        {
         "name": "cuisine",
         "rawType": "object",
         "type": "string"
        },
        {
         "name": "ingredients",
         "rawType": "object",
         "type": "unknown"
        }
       ],
       "ref": "9fc025f5-cb4d-4b1b-b078-4ac7401a2745",
       "rows": [
        [
         "0",
         "10259",
         "greek",
         "['romaine lettuce', 'black olives', 'grape tomatoes', 'garlic', 'pepper', 'purple onion', 'seasoning', 'garbanzo beans', 'feta cheese crumbles']"
        ],
        [
         "1",
         "25693",
         "southern_us",
         "['plain flour', 'ground pepper', 'salt', 'tomatoes', 'ground black pepper', 'thyme', 'eggs', 'green tomatoes', 'yellow corn meal', 'milk', 'vegetable oil']"
        ],
        [
         "2",
         "20130",
         "filipino",
         "['eggs', 'pepper', 'salt', 'mayonaise', 'cooking oil', 'green chilies', 'grilled chicken breasts', 'garlic powder', 'yellow onion', 'soy sauce', 'butter', 'chicken livers']"
        ],
        [
         "3",
         "22213",
         "indian",
         "['water', 'vegetable oil', 'wheat', 'salt']"
        ],
        [
         "4",
         "13162",
         "indian",
         "['black pepper', 'shallots', 'cornflour', 'cayenne pepper', 'onions', 'garlic paste', 'milk', 'butter', 'salt', 'lemon juice', 'water', 'chili powder', 'passata', 'oil', 'ground cumin', 'boneless chicken skinless thigh', 'garam masala', 'double cream', 'natural yogurt', 'bay leaf']"
        ],
        [
         "5",
         "6602",
         "jamaican",
         "['plain flour', 'sugar', 'butter', 'eggs', 'fresh ginger root', 'salt', 'ground cinnamon', 'milk', 'vanilla extract', 'ground ginger', 'powdered sugar', 'baking powder']"
        ],
        [
         "6",
         "42779",
         "spanish",
         "['olive oil', 'salt', 'medium shrimp', 'pepper', 'garlic', 'chopped cilantro', 'jalapeno chilies', 'flat leaf parsley', 'skirt steak', 'white vinegar', 'sea salt', 'bay leaf', 'chorizo sausage']"
        ],
        [
         "7",
         "3735",
         "italian",
         "['sugar', 'pistachio nuts', 'white almond bark', 'flour', 'vanilla extract', 'olive oil', 'almond extract', 'eggs', 'baking powder', 'dried cranberries']"
        ],
        [
         "8",
         "16903",
         "mexican",
         "['olive oil', 'purple onion', 'fresh pineapple', 'pork', 'poblano peppers', 'corn tortillas', 'cheddar cheese', 'ground black pepper', 'salt', 'iceberg lettuce', 'lime', 'jalapeno chilies', 'chopped cilantro fresh']"
        ],
        [
         "9",
         "12734",
         "italian",
         "['chopped tomatoes', 'fresh basil', 'garlic', 'extra-virgin olive oil', 'kosher salt', 'flat leaf parsley']"
        ],
        [
         "10",
         "5875",
         "italian",
         "['pimentos', 'sweet pepper', 'dried oregano', 'olive oil', 'garlic', 'sharp cheddar cheese', 'pepper', 'swiss cheese', 'provolone cheese', 'canola oil', 'mushrooms', 'black olives', 'sausages']"
        ],
        [
         "11",
         "45887",
         "chinese",
         "['low sodium soy sauce', 'fresh ginger', 'dry mustard', 'green beans', 'white pepper', 'sesame oil', 'scallions', 'canola oil', 'sugar', 'Shaoxing wine', 'garlic', 'ground turkey', 'water', 'crushed red pepper flakes', 'corn starch']"
        ],
        [
         "12",
         "2698",
         "italian",
         "['Italian parsley leaves', 'walnuts', 'hot red pepper flakes', 'extra-virgin olive oil', 'fresh lemon juice', 'trout fillet', 'garlic cloves', 'chipotle chile', 'fine sea salt', 'flat leaf parsley']"
        ],
        [
         "13",
         "41995",
         "mexican",
         "['ground cinnamon', 'fresh cilantro', 'chili powder', 'ground coriander', 'kosher salt', 'ground black pepper', 'garlic', 'plum tomatoes', 'avocado', 'lime juice', 'flank steak', 'salt', 'ground cumin', 'black pepper', 'olive oil', 'crushed red pepper flakes', 'onions']"
        ],
        [
         "14",
         "31908",
         "italian",
         "['fresh parmesan cheese', 'butter', 'all-purpose flour', 'fat free less sodium chicken broth', 'chopped fresh chives', 'gruyere cheese', 'ground black pepper', 'bacon slices', 'gnocchi', 'fat free milk', 'cooking spray', 'salt']"
        ],
        [
         "15",
         "24717",
         "indian",
         "['tumeric', 'vegetable stock', 'tomatoes', 'garam masala', 'naan', 'red lentils', 'red chili peppers', 'onions', 'spinach', 'sweet potatoes']"
        ],
        [
         "16",
         "34466",
         "british",
         "['greek yogurt', 'lemon curd', 'confectioners sugar', 'raspberries']"
        ],
        [
         "17",
         "1420",
         "italian",
         "['italian seasoning', 'broiler-fryer chicken', 'mayonaise', 'zesty italian dressing']"
        ],
        [
         "18",
         "2941",
         "thai",
         "['sugar', 'hot chili', 'asian fish sauce', 'lime juice']"
        ],
        [
         "19",
         "8152",
         "vietnamese",
         "['soy sauce', 'vegetable oil', 'red bell pepper', 'chicken broth', 'yellow squash', 'garlic chili sauce', 'sliced green onions', 'broccolini', 'salt', 'fresh lime juice', 'cooked rice', 'chicken breasts', 'corn starch']"
        ],
        [
         "20",
         "13121",
         "thai",
         "['pork loin', 'roasted peanuts', 'chopped cilantro fresh', 'hoisin sauce', 'creamy peanut butter', 'chopped fresh mint', 'thai basil', 'rice', 'medium shrimp', 'water', 'rice noodles', 'beansprouts']"
        ],
        [
         "21",
         "40523",
         "mexican",
         "['roma tomatoes', 'kosher salt', 'purple onion', 'jalapeno chilies', 'lime', 'chopped cilantro']"
        ],
        [
         "22",
         "40989",
         "southern_us",
         "['low-fat mayonnaise', 'pepper', 'salt', 'baking potatoes', 'eggs', 'spicy brown mustard']"
        ],
        [
         "23",
         "29630",
         "chinese",
         "['sesame seeds', 'red pepper', 'yellow peppers', 'water', 'extra firm tofu', 'broccoli', 'soy sauce', 'orange bell pepper', 'arrowroot powder', 'fresh ginger', 'sesame oil', 'red curry paste']"
        ],
        [
         "24",
         "49136",
         "italian",
         "['marinara sauce', 'flat leaf parsley', 'olive oil', 'linguine', 'capers', 'crushed red pepper flakes', 'olives', 'lemon zest', 'garlic']"
        ],
        [
         "25",
         "26705",
         "chinese",
         "['sugar', 'lo mein noodles', 'salt', 'chicken broth', 'light soy sauce', 'flank steak', 'beansprouts', 'dried black mushrooms', 'pepper', 'chives', 'oyster sauce', 'dark soy sauce', 'peanuts', 'sesame oil', 'cabbage']"
        ],
        [
         "26",
         "27976",
         "cajun_creole",
         "['herbs', 'lemon juice', 'fresh tomatoes', 'paprika', 'mango', 'stock', 'chile pepper', 'onions', 'red chili peppers', 'oil']"
        ],
        [
         "27",
         "22087",
         "italian",
         "['ground black pepper', 'butter', 'sliced mushrooms', 'sherry', 'salt', 'grated parmesan cheese', 'heavy cream', 'spaghetti', 'chicken broth', 'cooked chicken', 'all-purpose flour']"
        ],
        [
         "28",
         "9197",
         "chinese",
         "['green bell pepper', 'egg roll wrappers', 'sweet and sour sauce', 'corn starch', 'molasses', 'vegetable oil', 'oil', 'soy sauce', 'shredded cabbage', 'garlic', 'onions', 'fresh ginger root', 'ground pork', 'carrots']"
        ],
        [
         "29",
         "1299",
         "mexican",
         "['flour tortillas', 'cheese', 'breakfast sausages', 'large eggs']"
        ],
        [
         "30",
         "40429",
         "italian",
         "['yellow corn meal', 'boiling water', 'butter', 'fresh parmesan cheese', 'sea salt']"
        ],
        [
         "31",
         "34419",
         "cajun_creole",
         "['chicken broth', 'chicken breasts', 'hot sauce', 'red bell pepper', 'potatoes', 'bacon', 'garlic cloves', 'fresh parsley', 'andouille sausage', 'cajun seasoning', 'peanut oil', 'celery', 'ground red pepper', 'all-purpose flour', 'shrimp', 'onions']"
        ],
        [
         "32",
         "10276",
         "mexican",
         "['chili powder', 'crushed red pepper flakes', 'garlic powder', 'sea salt', 'ground cumin', 'onion powder', 'dried oregano', 'ground black pepper', 'paprika']"
        ],
        [
         "33",
         "33465",
         "thai",
         "['eggs', 'shallots', 'firm tofu', 'beansprouts', 'turnips', 'palm sugar', 'vegetable oil', 'garlic cloves', 'sliced chicken', 'fish sauce', 'lime wedges', 'roasted peanuts', 'green papaya', 'chile powder', 'ground black pepper', 'tamarind paste', 'chinese chives']"
        ],
        [
         "34",
         "39250",
         "italian",
         "['olive oil', 'onions', 'crushed garlic', 'dried oregano', 'green onions', 'white sugar', 'dried basil', 'diced tomatoes']"
        ],
        [
         "35",
         "37963",
         "cajun_creole",
         "['olive oil', 'diced tomatoes', 'Johnsonville Andouille Dinner Sausage', 'parsley', 'shrimp', 'jambalaya rice mix', 'worcestershire sauce', 'hot pepper sauce', 'creole seasoning']"
        ],
        [
         "36",
         "20051",
         "italian",
         "['olive oil', 'bread slices', 'great northern beans', 'garlic cloves', 'pepper', 'shrimp', 'sage leaves', 'salt']"
        ],
        [
         "37",
         "11300",
         "filipino",
         "['chicken broth', 'cooking oil', 'chinese five-spice powder', 'ground black pepper', 'salt', 'sugar', 'crushed garlic', 'chicken thighs', 'soy sauce', 'star anise']"
        ],
        [
         "38",
         "17610",
         "southern_us",
         "['green onions', 'cream cheese', 'shredded cheddar cheese', 'cayenne pepper', 'chili powder', 'garlic cloves', 'black-eyed peas', 'tortilla chips']"
        ],
        [
         "39",
         "37405",
         "southern_us",
         "['collard greens', 'extra-virgin olive oil', 'ham hock', 'chicken stock', 'apple cider', 'freshly ground pepper', 'chile powder', 'bay leaves', 'salt', 'rib', 'light brown sugar', 'large garlic cloves', 'cayenne pepper', 'onions']"
        ],
        [
         "40",
         "28302",
         "italian",
         "['Oscar Mayer Deli Fresh Smoked Ham', 'hoagie rolls', 'salami', 'giardiniera', 'mozzarella cheese', 'pepperoni', 'butter', 'italian seasoning']"
        ],
        [
         "41",
         "31634",
         "brazilian",
         "['ice cubes', 'club soda', 'white rum', 'lime', 'turbinado']"
        ],
        [
         "42",
         "32304",
         "mexican",
         "['cooked chicken', 'enchilada sauce', 'sliced green onions', 'picante sauce', 'green pepper', 'corn tortillas', 'canned black beans', 'shredded lettuce', 'sour cream', 'shredded cheddar cheese', 'garlic cloves', 'canola oil']"
        ],
        [
         "43",
         "36341",
         "indian",
         "['salmon fillets', 'shallots', 'cumin seed', 'fresh cilantro', 'salt', 'curry powder', 'vegetable oil', 'serrano chile', 'fresh ginger', 'sauce']"
        ],
        [
         "44",
         "29369",
         "mexican",
         "['tomatoes', 'chicken breast halves', 'chopped cilantro fresh', 'white vinegar', 'jalapeno chilies', 'salt', 'black pepper', 'vegetable oil', 'avocado', 'lettuce leaves', 'chopped onion']"
        ],
        [
         "45",
         "27564",
         "chinese",
         "['eggs', 'mandarin oranges', 'water', 'orange liqueur', 'yellow cake mix', 'frosting', 'vegetable oil', 'white sugar']"
        ],
        [
         "46",
         "18515",
         "french",
         "['sugar', 'salt', 'fennel bulb', 'water', 'lemon olive oil', 'grapefruit juice']"
        ],
        [
         "47",
         "3335",
         "southern_us",
         "['sugar', 'all-purpose flour', 'vegetable oil', 'white cornmeal', 'baking powder', 'onions', 'bacon drippings', 'buttermilk']"
        ],
        [
         "48",
         "4499",
         "southern_us",
         "['butter', 'crab boil', 'garlic', 'old bay seasoning', 'cream cheese', 'crawfish', 'salt']"
        ],
        [
         "49",
         "4906",
         "southern_us",
         "['mayonaise', 'white sugar', 'ground black pepper', 'salt', 'white vinegar', 'lemon juice']"
        ]
       ],
       "shape": {
        "columns": 3,
        "rows": 39774
       }
      },
      "text/html": [
       "<div>\n",
       "<style scoped>\n",
       "    .dataframe tbody tr th:only-of-type {\n",
       "        vertical-align: middle;\n",
       "    }\n",
       "\n",
       "    .dataframe tbody tr th {\n",
       "        vertical-align: top;\n",
       "    }\n",
       "\n",
       "    .dataframe thead th {\n",
       "        text-align: right;\n",
       "    }\n",
       "</style>\n",
       "<table border=\"1\" class=\"dataframe\">\n",
       "  <thead>\n",
       "    <tr style=\"text-align: right;\">\n",
       "      <th></th>\n",
       "      <th>id</th>\n",
       "      <th>cuisine</th>\n",
       "      <th>ingredients</th>\n",
       "    </tr>\n",
       "  </thead>\n",
       "  <tbody>\n",
       "    <tr>\n",
       "      <th>0</th>\n",
       "      <td>10259</td>\n",
       "      <td>greek</td>\n",
       "      <td>[romaine lettuce, black olives, grape tomatoes...</td>\n",
       "    </tr>\n",
       "    <tr>\n",
       "      <th>1</th>\n",
       "      <td>25693</td>\n",
       "      <td>southern_us</td>\n",
       "      <td>[plain flour, ground pepper, salt, tomatoes, g...</td>\n",
       "    </tr>\n",
       "    <tr>\n",
       "      <th>2</th>\n",
       "      <td>20130</td>\n",
       "      <td>filipino</td>\n",
       "      <td>[eggs, pepper, salt, mayonaise, cooking oil, g...</td>\n",
       "    </tr>\n",
       "    <tr>\n",
       "      <th>3</th>\n",
       "      <td>22213</td>\n",
       "      <td>indian</td>\n",
       "      <td>[water, vegetable oil, wheat, salt]</td>\n",
       "    </tr>\n",
       "    <tr>\n",
       "      <th>4</th>\n",
       "      <td>13162</td>\n",
       "      <td>indian</td>\n",
       "      <td>[black pepper, shallots, cornflour, cayenne pe...</td>\n",
       "    </tr>\n",
       "    <tr>\n",
       "      <th>...</th>\n",
       "      <td>...</td>\n",
       "      <td>...</td>\n",
       "      <td>...</td>\n",
       "    </tr>\n",
       "    <tr>\n",
       "      <th>39769</th>\n",
       "      <td>29109</td>\n",
       "      <td>irish</td>\n",
       "      <td>[light brown sugar, granulated sugar, butter, ...</td>\n",
       "    </tr>\n",
       "    <tr>\n",
       "      <th>39770</th>\n",
       "      <td>11462</td>\n",
       "      <td>italian</td>\n",
       "      <td>[KRAFT Zesty Italian Dressing, purple onion, b...</td>\n",
       "    </tr>\n",
       "    <tr>\n",
       "      <th>39771</th>\n",
       "      <td>2238</td>\n",
       "      <td>irish</td>\n",
       "      <td>[eggs, citrus fruit, raisins, sourdough starte...</td>\n",
       "    </tr>\n",
       "    <tr>\n",
       "      <th>39772</th>\n",
       "      <td>41882</td>\n",
       "      <td>chinese</td>\n",
       "      <td>[boneless chicken skinless thigh, minced garli...</td>\n",
       "    </tr>\n",
       "    <tr>\n",
       "      <th>39773</th>\n",
       "      <td>2362</td>\n",
       "      <td>mexican</td>\n",
       "      <td>[green chile, jalapeno chilies, onions, ground...</td>\n",
       "    </tr>\n",
       "  </tbody>\n",
       "</table>\n",
       "<p>39774 rows × 3 columns</p>\n",
       "</div>"
      ],
      "text/plain": [
       "          id      cuisine                                        ingredients\n",
       "0      10259        greek  [romaine lettuce, black olives, grape tomatoes...\n",
       "1      25693  southern_us  [plain flour, ground pepper, salt, tomatoes, g...\n",
       "2      20130     filipino  [eggs, pepper, salt, mayonaise, cooking oil, g...\n",
       "3      22213       indian                [water, vegetable oil, wheat, salt]\n",
       "4      13162       indian  [black pepper, shallots, cornflour, cayenne pe...\n",
       "...      ...          ...                                                ...\n",
       "39769  29109        irish  [light brown sugar, granulated sugar, butter, ...\n",
       "39770  11462      italian  [KRAFT Zesty Italian Dressing, purple onion, b...\n",
       "39771   2238        irish  [eggs, citrus fruit, raisins, sourdough starte...\n",
       "39772  41882      chinese  [boneless chicken skinless thigh, minced garli...\n",
       "39773   2362      mexican  [green chile, jalapeno chilies, onions, ground...\n",
       "\n",
       "[39774 rows x 3 columns]"
      ]
     },
     "execution_count": 4,
     "metadata": {},
     "output_type": "execute_result"
    }
   ],
   "source": [
    "pd.read_json('Recipe.json')"
   ]
  },
  {
   "cell_type": "code",
   "execution_count": 5,
   "metadata": {},
   "outputs": [
    {
     "data": {
      "application/vnd.microsoft.datawrangler.viewer.v0+json": {
       "columns": [
        {
         "name": "index",
         "rawType": "object",
         "type": "string"
        },
        {
         "name": "provider",
         "rawType": "object",
         "type": "string"
        },
        {
         "name": "WARNING_UPGRADE_TO_V6",
         "rawType": "object",
         "type": "string"
        },
        {
         "name": "terms",
         "rawType": "object",
         "type": "string"
        },
        {
         "name": "base",
         "rawType": "object",
         "type": "string"
        },
        {
         "name": "date",
         "rawType": "datetime64[ns]",
         "type": "datetime"
        },
        {
         "name": "time_last_updated",
         "rawType": "int64",
         "type": "integer"
        },
        {
         "name": "rates",
         "rawType": "float64",
         "type": "float"
        }
       ],
       "ref": "ae3125af-aaf9-4435-a572-e43eeb11c795",
       "rows": [
        [
         "INR",
         "https://www.exchangerate-api.com",
         "https://www.exchangerate-api.com/docs/free",
         "https://www.exchangerate-api.com/terms",
         "INR",
         "2025-07-11 00:00:00",
         "1752192001",
         "1.0"
        ],
        [
         "AED",
         "https://www.exchangerate-api.com",
         "https://www.exchangerate-api.com/docs/free",
         "https://www.exchangerate-api.com/terms",
         "INR",
         "2025-07-11 00:00:00",
         "1752192001",
         "0.042800000000000005"
        ],
        [
         "AFN",
         "https://www.exchangerate-api.com",
         "https://www.exchangerate-api.com/docs/free",
         "https://www.exchangerate-api.com/terms",
         "INR",
         "2025-07-11 00:00:00",
         "1752192001",
         "0.8130000000000001"
        ],
        [
         "ALL",
         "https://www.exchangerate-api.com",
         "https://www.exchangerate-api.com/docs/free",
         "https://www.exchangerate-api.com/terms",
         "INR",
         "2025-07-11 00:00:00",
         "1752192001",
         "0.975"
        ],
        [
         "AMD",
         "https://www.exchangerate-api.com",
         "https://www.exchangerate-api.com/docs/free",
         "https://www.exchangerate-api.com/terms",
         "INR",
         "2025-07-11 00:00:00",
         "1752192001",
         "4.48"
        ],
        [
         "ANG",
         "https://www.exchangerate-api.com",
         "https://www.exchangerate-api.com/docs/free",
         "https://www.exchangerate-api.com/terms",
         "INR",
         "2025-07-11 00:00:00",
         "1752192001",
         "0.020900000000000002"
        ],
        [
         "AOA",
         "https://www.exchangerate-api.com",
         "https://www.exchangerate-api.com/docs/free",
         "https://www.exchangerate-api.com/terms",
         "INR",
         "2025-07-11 00:00:00",
         "1752192001",
         "10.87"
        ],
        [
         "ARS",
         "https://www.exchangerate-api.com",
         "https://www.exchangerate-api.com/docs/free",
         "https://www.exchangerate-api.com/terms",
         "INR",
         "2025-07-11 00:00:00",
         "1752192001",
         "14.71"
        ],
        [
         "AUD",
         "https://www.exchangerate-api.com",
         "https://www.exchangerate-api.com/docs/free",
         "https://www.exchangerate-api.com/terms",
         "INR",
         "2025-07-11 00:00:00",
         "1752192001",
         "0.0178"
        ],
        [
         "AWG",
         "https://www.exchangerate-api.com",
         "https://www.exchangerate-api.com/docs/free",
         "https://www.exchangerate-api.com/terms",
         "INR",
         "2025-07-11 00:00:00",
         "1752192001",
         "0.020900000000000002"
        ],
        [
         "AZN",
         "https://www.exchangerate-api.com",
         "https://www.exchangerate-api.com/docs/free",
         "https://www.exchangerate-api.com/terms",
         "INR",
         "2025-07-11 00:00:00",
         "1752192001",
         "0.0199"
        ],
        [
         "BAM",
         "https://www.exchangerate-api.com",
         "https://www.exchangerate-api.com/docs/free",
         "https://www.exchangerate-api.com/terms",
         "INR",
         "2025-07-11 00:00:00",
         "1752192001",
         "0.0195"
        ],
        [
         "BBD",
         "https://www.exchangerate-api.com",
         "https://www.exchangerate-api.com/docs/free",
         "https://www.exchangerate-api.com/terms",
         "INR",
         "2025-07-11 00:00:00",
         "1752192001",
         "0.0233"
        ],
        [
         "BDT",
         "https://www.exchangerate-api.com",
         "https://www.exchangerate-api.com/docs/free",
         "https://www.exchangerate-api.com/terms",
         "INR",
         "2025-07-11 00:00:00",
         "1752192001",
         "1.42"
        ],
        [
         "BGN",
         "https://www.exchangerate-api.com",
         "https://www.exchangerate-api.com/docs/free",
         "https://www.exchangerate-api.com/terms",
         "INR",
         "2025-07-11 00:00:00",
         "1752192001",
         "0.0195"
        ],
        [
         "BHD",
         "https://www.exchangerate-api.com",
         "https://www.exchangerate-api.com/docs/free",
         "https://www.exchangerate-api.com/terms",
         "INR",
         "2025-07-11 00:00:00",
         "1752192001",
         "0.004390000000000001"
        ],
        [
         "BIF",
         "https://www.exchangerate-api.com",
         "https://www.exchangerate-api.com/docs/free",
         "https://www.exchangerate-api.com/terms",
         "INR",
         "2025-07-11 00:00:00",
         "1752192001",
         "34.93"
        ],
        [
         "BMD",
         "https://www.exchangerate-api.com",
         "https://www.exchangerate-api.com/docs/free",
         "https://www.exchangerate-api.com/terms",
         "INR",
         "2025-07-11 00:00:00",
         "1752192001",
         "0.0117"
        ],
        [
         "BND",
         "https://www.exchangerate-api.com",
         "https://www.exchangerate-api.com/docs/free",
         "https://www.exchangerate-api.com/terms",
         "INR",
         "2025-07-11 00:00:00",
         "1752192001",
         "0.0149"
        ],
        [
         "BOB",
         "https://www.exchangerate-api.com",
         "https://www.exchangerate-api.com/docs/free",
         "https://www.exchangerate-api.com/terms",
         "INR",
         "2025-07-11 00:00:00",
         "1752192001",
         "0.08070000000000001"
        ],
        [
         "BRL",
         "https://www.exchangerate-api.com",
         "https://www.exchangerate-api.com/docs/free",
         "https://www.exchangerate-api.com/terms",
         "INR",
         "2025-07-11 00:00:00",
         "1752192001",
         "0.0651"
        ],
        [
         "BSD",
         "https://www.exchangerate-api.com",
         "https://www.exchangerate-api.com/docs/free",
         "https://www.exchangerate-api.com/terms",
         "INR",
         "2025-07-11 00:00:00",
         "1752192001",
         "0.0117"
        ],
        [
         "BTN",
         "https://www.exchangerate-api.com",
         "https://www.exchangerate-api.com/docs/free",
         "https://www.exchangerate-api.com/terms",
         "INR",
         "2025-07-11 00:00:00",
         "1752192001",
         "1.0"
        ],
        [
         "BWP",
         "https://www.exchangerate-api.com",
         "https://www.exchangerate-api.com/docs/free",
         "https://www.exchangerate-api.com/terms",
         "INR",
         "2025-07-11 00:00:00",
         "1752192001",
         "0.156"
        ],
        [
         "BYN",
         "https://www.exchangerate-api.com",
         "https://www.exchangerate-api.com/docs/free",
         "https://www.exchangerate-api.com/terms",
         "INR",
         "2025-07-11 00:00:00",
         "1752192001",
         "0.0367"
        ],
        [
         "BZD",
         "https://www.exchangerate-api.com",
         "https://www.exchangerate-api.com/docs/free",
         "https://www.exchangerate-api.com/terms",
         "INR",
         "2025-07-11 00:00:00",
         "1752192001",
         "0.0233"
        ],
        [
         "CAD",
         "https://www.exchangerate-api.com",
         "https://www.exchangerate-api.com/docs/free",
         "https://www.exchangerate-api.com/terms",
         "INR",
         "2025-07-11 00:00:00",
         "1752192001",
         "0.016"
        ],
        [
         "CDF",
         "https://www.exchangerate-api.com",
         "https://www.exchangerate-api.com/docs/free",
         "https://www.exchangerate-api.com/terms",
         "INR",
         "2025-07-11 00:00:00",
         "1752192001",
         "33.93"
        ],
        [
         "CHF",
         "https://www.exchangerate-api.com",
         "https://www.exchangerate-api.com/docs/free",
         "https://www.exchangerate-api.com/terms",
         "INR",
         "2025-07-11 00:00:00",
         "1752192001",
         "0.009290000000000001"
        ],
        [
         "CLP",
         "https://www.exchangerate-api.com",
         "https://www.exchangerate-api.com/docs/free",
         "https://www.exchangerate-api.com/terms",
         "INR",
         "2025-07-11 00:00:00",
         "1752192001",
         "11.08"
        ],
        [
         "CNY",
         "https://www.exchangerate-api.com",
         "https://www.exchangerate-api.com/docs/free",
         "https://www.exchangerate-api.com/terms",
         "INR",
         "2025-07-11 00:00:00",
         "1752192001",
         "0.08370000000000001"
        ],
        [
         "COP",
         "https://www.exchangerate-api.com",
         "https://www.exchangerate-api.com/docs/free",
         "https://www.exchangerate-api.com/terms",
         "INR",
         "2025-07-11 00:00:00",
         "1752192001",
         "46.92"
        ],
        [
         "CRC",
         "https://www.exchangerate-api.com",
         "https://www.exchangerate-api.com/docs/free",
         "https://www.exchangerate-api.com/terms",
         "INR",
         "2025-07-11 00:00:00",
         "1752192001",
         "5.89"
        ],
        [
         "CUP",
         "https://www.exchangerate-api.com",
         "https://www.exchangerate-api.com/docs/free",
         "https://www.exchangerate-api.com/terms",
         "INR",
         "2025-07-11 00:00:00",
         "1752192001",
         "0.28"
        ],
        [
         "CVE",
         "https://www.exchangerate-api.com",
         "https://www.exchangerate-api.com/docs/free",
         "https://www.exchangerate-api.com/terms",
         "INR",
         "2025-07-11 00:00:00",
         "1752192001",
         "1.1"
        ],
        [
         "CZK",
         "https://www.exchangerate-api.com",
         "https://www.exchangerate-api.com/docs/free",
         "https://www.exchangerate-api.com/terms",
         "INR",
         "2025-07-11 00:00:00",
         "1752192001",
         "0.245"
        ],
        [
         "DJF",
         "https://www.exchangerate-api.com",
         "https://www.exchangerate-api.com/docs/free",
         "https://www.exchangerate-api.com/terms",
         "INR",
         "2025-07-11 00:00:00",
         "1752192001",
         "2.07"
        ],
        [
         "DKK",
         "https://www.exchangerate-api.com",
         "https://www.exchangerate-api.com/docs/free",
         "https://www.exchangerate-api.com/terms",
         "INR",
         "2025-07-11 00:00:00",
         "1752192001",
         "0.0743"
        ],
        [
         "DOP",
         "https://www.exchangerate-api.com",
         "https://www.exchangerate-api.com/docs/free",
         "https://www.exchangerate-api.com/terms",
         "INR",
         "2025-07-11 00:00:00",
         "1752192001",
         "0.7000000000000001"
        ],
        [
         "DZD",
         "https://www.exchangerate-api.com",
         "https://www.exchangerate-api.com/docs/free",
         "https://www.exchangerate-api.com/terms",
         "INR",
         "2025-07-11 00:00:00",
         "1752192001",
         "1.52"
        ],
        [
         "EGP",
         "https://www.exchangerate-api.com",
         "https://www.exchangerate-api.com/docs/free",
         "https://www.exchangerate-api.com/terms",
         "INR",
         "2025-07-11 00:00:00",
         "1752192001",
         "0.578"
        ],
        [
         "ERN",
         "https://www.exchangerate-api.com",
         "https://www.exchangerate-api.com/docs/free",
         "https://www.exchangerate-api.com/terms",
         "INR",
         "2025-07-11 00:00:00",
         "1752192001",
         "0.17500000000000002"
        ],
        [
         "ETB",
         "https://www.exchangerate-api.com",
         "https://www.exchangerate-api.com/docs/free",
         "https://www.exchangerate-api.com/terms",
         "INR",
         "2025-07-11 00:00:00",
         "1752192001",
         "1.62"
        ],
        [
         "EUR",
         "https://www.exchangerate-api.com",
         "https://www.exchangerate-api.com/docs/free",
         "https://www.exchangerate-api.com/terms",
         "INR",
         "2025-07-11 00:00:00",
         "1752192001",
         "0.009970000000000001"
        ],
        [
         "FJD",
         "https://www.exchangerate-api.com",
         "https://www.exchangerate-api.com/docs/free",
         "https://www.exchangerate-api.com/terms",
         "INR",
         "2025-07-11 00:00:00",
         "1752192001",
         "0.0262"
        ],
        [
         "FKP",
         "https://www.exchangerate-api.com",
         "https://www.exchangerate-api.com/docs/free",
         "https://www.exchangerate-api.com/terms",
         "INR",
         "2025-07-11 00:00:00",
         "1752192001",
         "0.00859"
        ],
        [
         "FOK",
         "https://www.exchangerate-api.com",
         "https://www.exchangerate-api.com/docs/free",
         "https://www.exchangerate-api.com/terms",
         "INR",
         "2025-07-11 00:00:00",
         "1752192001",
         "0.0743"
        ],
        [
         "GBP",
         "https://www.exchangerate-api.com",
         "https://www.exchangerate-api.com/docs/free",
         "https://www.exchangerate-api.com/terms",
         "INR",
         "2025-07-11 00:00:00",
         "1752192001",
         "0.00859"
        ],
        [
         "GEL",
         "https://www.exchangerate-api.com",
         "https://www.exchangerate-api.com/docs/free",
         "https://www.exchangerate-api.com/terms",
         "INR",
         "2025-07-11 00:00:00",
         "1752192001",
         "0.0317"
        ],
        [
         "GGP",
         "https://www.exchangerate-api.com",
         "https://www.exchangerate-api.com/docs/free",
         "https://www.exchangerate-api.com/terms",
         "INR",
         "2025-07-11 00:00:00",
         "1752192001",
         "0.00859"
        ]
       ],
       "shape": {
        "columns": 7,
        "rows": 163
       }
      },
      "text/html": [
       "<div>\n",
       "<style scoped>\n",
       "    .dataframe tbody tr th:only-of-type {\n",
       "        vertical-align: middle;\n",
       "    }\n",
       "\n",
       "    .dataframe tbody tr th {\n",
       "        vertical-align: top;\n",
       "    }\n",
       "\n",
       "    .dataframe thead th {\n",
       "        text-align: right;\n",
       "    }\n",
       "</style>\n",
       "<table border=\"1\" class=\"dataframe\">\n",
       "  <thead>\n",
       "    <tr style=\"text-align: right;\">\n",
       "      <th></th>\n",
       "      <th>provider</th>\n",
       "      <th>WARNING_UPGRADE_TO_V6</th>\n",
       "      <th>terms</th>\n",
       "      <th>base</th>\n",
       "      <th>date</th>\n",
       "      <th>time_last_updated</th>\n",
       "      <th>rates</th>\n",
       "    </tr>\n",
       "  </thead>\n",
       "  <tbody>\n",
       "    <tr>\n",
       "      <th>INR</th>\n",
       "      <td>https://www.exchangerate-api.com</td>\n",
       "      <td>https://www.exchangerate-api.com/docs/free</td>\n",
       "      <td>https://www.exchangerate-api.com/terms</td>\n",
       "      <td>INR</td>\n",
       "      <td>2025-07-11</td>\n",
       "      <td>1752192001</td>\n",
       "      <td>1.0000</td>\n",
       "    </tr>\n",
       "    <tr>\n",
       "      <th>AED</th>\n",
       "      <td>https://www.exchangerate-api.com</td>\n",
       "      <td>https://www.exchangerate-api.com/docs/free</td>\n",
       "      <td>https://www.exchangerate-api.com/terms</td>\n",
       "      <td>INR</td>\n",
       "      <td>2025-07-11</td>\n",
       "      <td>1752192001</td>\n",
       "      <td>0.0428</td>\n",
       "    </tr>\n",
       "    <tr>\n",
       "      <th>AFN</th>\n",
       "      <td>https://www.exchangerate-api.com</td>\n",
       "      <td>https://www.exchangerate-api.com/docs/free</td>\n",
       "      <td>https://www.exchangerate-api.com/terms</td>\n",
       "      <td>INR</td>\n",
       "      <td>2025-07-11</td>\n",
       "      <td>1752192001</td>\n",
       "      <td>0.8130</td>\n",
       "    </tr>\n",
       "    <tr>\n",
       "      <th>ALL</th>\n",
       "      <td>https://www.exchangerate-api.com</td>\n",
       "      <td>https://www.exchangerate-api.com/docs/free</td>\n",
       "      <td>https://www.exchangerate-api.com/terms</td>\n",
       "      <td>INR</td>\n",
       "      <td>2025-07-11</td>\n",
       "      <td>1752192001</td>\n",
       "      <td>0.9750</td>\n",
       "    </tr>\n",
       "    <tr>\n",
       "      <th>AMD</th>\n",
       "      <td>https://www.exchangerate-api.com</td>\n",
       "      <td>https://www.exchangerate-api.com/docs/free</td>\n",
       "      <td>https://www.exchangerate-api.com/terms</td>\n",
       "      <td>INR</td>\n",
       "      <td>2025-07-11</td>\n",
       "      <td>1752192001</td>\n",
       "      <td>4.4800</td>\n",
       "    </tr>\n",
       "    <tr>\n",
       "      <th>...</th>\n",
       "      <td>...</td>\n",
       "      <td>...</td>\n",
       "      <td>...</td>\n",
       "      <td>...</td>\n",
       "      <td>...</td>\n",
       "      <td>...</td>\n",
       "      <td>...</td>\n",
       "    </tr>\n",
       "    <tr>\n",
       "      <th>XPF</th>\n",
       "      <td>https://www.exchangerate-api.com</td>\n",
       "      <td>https://www.exchangerate-api.com/docs/free</td>\n",
       "      <td>https://www.exchangerate-api.com/terms</td>\n",
       "      <td>INR</td>\n",
       "      <td>2025-07-11</td>\n",
       "      <td>1752192001</td>\n",
       "      <td>1.1900</td>\n",
       "    </tr>\n",
       "    <tr>\n",
       "      <th>YER</th>\n",
       "      <td>https://www.exchangerate-api.com</td>\n",
       "      <td>https://www.exchangerate-api.com/docs/free</td>\n",
       "      <td>https://www.exchangerate-api.com/terms</td>\n",
       "      <td>INR</td>\n",
       "      <td>2025-07-11</td>\n",
       "      <td>1752192001</td>\n",
       "      <td>2.8300</td>\n",
       "    </tr>\n",
       "    <tr>\n",
       "      <th>ZAR</th>\n",
       "      <td>https://www.exchangerate-api.com</td>\n",
       "      <td>https://www.exchangerate-api.com/docs/free</td>\n",
       "      <td>https://www.exchangerate-api.com/terms</td>\n",
       "      <td>INR</td>\n",
       "      <td>2025-07-11</td>\n",
       "      <td>1752192001</td>\n",
       "      <td>0.2070</td>\n",
       "    </tr>\n",
       "    <tr>\n",
       "      <th>ZMW</th>\n",
       "      <td>https://www.exchangerate-api.com</td>\n",
       "      <td>https://www.exchangerate-api.com/docs/free</td>\n",
       "      <td>https://www.exchangerate-api.com/terms</td>\n",
       "      <td>INR</td>\n",
       "      <td>2025-07-11</td>\n",
       "      <td>1752192001</td>\n",
       "      <td>0.2780</td>\n",
       "    </tr>\n",
       "    <tr>\n",
       "      <th>ZWL</th>\n",
       "      <td>https://www.exchangerate-api.com</td>\n",
       "      <td>https://www.exchangerate-api.com/docs/free</td>\n",
       "      <td>https://www.exchangerate-api.com/terms</td>\n",
       "      <td>INR</td>\n",
       "      <td>2025-07-11</td>\n",
       "      <td>1752192001</td>\n",
       "      <td>0.3130</td>\n",
       "    </tr>\n",
       "  </tbody>\n",
       "</table>\n",
       "<p>163 rows × 7 columns</p>\n",
       "</div>"
      ],
      "text/plain": [
       "                             provider  \\\n",
       "INR  https://www.exchangerate-api.com   \n",
       "AED  https://www.exchangerate-api.com   \n",
       "AFN  https://www.exchangerate-api.com   \n",
       "ALL  https://www.exchangerate-api.com   \n",
       "AMD  https://www.exchangerate-api.com   \n",
       "..                                ...   \n",
       "XPF  https://www.exchangerate-api.com   \n",
       "YER  https://www.exchangerate-api.com   \n",
       "ZAR  https://www.exchangerate-api.com   \n",
       "ZMW  https://www.exchangerate-api.com   \n",
       "ZWL  https://www.exchangerate-api.com   \n",
       "\n",
       "                          WARNING_UPGRADE_TO_V6  \\\n",
       "INR  https://www.exchangerate-api.com/docs/free   \n",
       "AED  https://www.exchangerate-api.com/docs/free   \n",
       "AFN  https://www.exchangerate-api.com/docs/free   \n",
       "ALL  https://www.exchangerate-api.com/docs/free   \n",
       "AMD  https://www.exchangerate-api.com/docs/free   \n",
       "..                                          ...   \n",
       "XPF  https://www.exchangerate-api.com/docs/free   \n",
       "YER  https://www.exchangerate-api.com/docs/free   \n",
       "ZAR  https://www.exchangerate-api.com/docs/free   \n",
       "ZMW  https://www.exchangerate-api.com/docs/free   \n",
       "ZWL  https://www.exchangerate-api.com/docs/free   \n",
       "\n",
       "                                      terms base       date  \\\n",
       "INR  https://www.exchangerate-api.com/terms  INR 2025-07-11   \n",
       "AED  https://www.exchangerate-api.com/terms  INR 2025-07-11   \n",
       "AFN  https://www.exchangerate-api.com/terms  INR 2025-07-11   \n",
       "ALL  https://www.exchangerate-api.com/terms  INR 2025-07-11   \n",
       "AMD  https://www.exchangerate-api.com/terms  INR 2025-07-11   \n",
       "..                                      ...  ...        ...   \n",
       "XPF  https://www.exchangerate-api.com/terms  INR 2025-07-11   \n",
       "YER  https://www.exchangerate-api.com/terms  INR 2025-07-11   \n",
       "ZAR  https://www.exchangerate-api.com/terms  INR 2025-07-11   \n",
       "ZMW  https://www.exchangerate-api.com/terms  INR 2025-07-11   \n",
       "ZWL  https://www.exchangerate-api.com/terms  INR 2025-07-11   \n",
       "\n",
       "     time_last_updated   rates  \n",
       "INR         1752192001  1.0000  \n",
       "AED         1752192001  0.0428  \n",
       "AFN         1752192001  0.8130  \n",
       "ALL         1752192001  0.9750  \n",
       "AMD         1752192001  4.4800  \n",
       "..                 ...     ...  \n",
       "XPF         1752192001  1.1900  \n",
       "YER         1752192001  2.8300  \n",
       "ZAR         1752192001  0.2070  \n",
       "ZMW         1752192001  0.2780  \n",
       "ZWL         1752192001  0.3130  \n",
       "\n",
       "[163 rows x 7 columns]"
      ]
     },
     "execution_count": 5,
     "metadata": {},
     "output_type": "execute_result"
    }
   ],
   "source": [
    "# URL To aceec data\n",
    "pd.read_json('https://api.exchangerate-api.com/v4/latest/INR')"
   ]
  },
  {
   "cell_type": "code",
   "execution_count": 6,
   "metadata": {},
   "outputs": [],
   "source": [
    "# %pip install mysql-connector-python\n",
    "\n",
    "# SQLWorking\n",
    "import sqlite3\n",
    "import mysql.connector\n"
   ]
  },
  {
   "cell_type": "code",
   "execution_count": 7,
   "metadata": {},
   "outputs": [
    {
     "ename": "DatabaseError",
     "evalue": "2003 (HY000): Can't connect to MySQL server on 'localhost:3306' (10061)",
     "output_type": "error",
     "traceback": [
      "\u001b[31m---------------------------------------------------------------------------\u001b[39m",
      "\u001b[31mMySQLInterfaceError\u001b[39m                       Traceback (most recent call last)",
      "\u001b[36mFile \u001b[39m\u001b[32md:\\Programming\\Machine_Learning_Concept\\.machinelearning\\Lib\\site-packages\\mysql\\connector\\connection_cext.py:354\u001b[39m, in \u001b[36mCMySQLConnection._open_connection\u001b[39m\u001b[34m(self)\u001b[39m\n\u001b[32m    353\u001b[39m \u001b[38;5;28;01mtry\u001b[39;00m:\n\u001b[32m--> \u001b[39m\u001b[32m354\u001b[39m     \u001b[38;5;28;43mself\u001b[39;49m\u001b[43m.\u001b[49m\u001b[43m_cmysql\u001b[49m\u001b[43m.\u001b[49m\u001b[43mconnect\u001b[49m\u001b[43m(\u001b[49m\u001b[43m*\u001b[49m\u001b[43m*\u001b[49m\u001b[43mcnx_kwargs\u001b[49m\u001b[43m)\u001b[49m\n\u001b[32m    355\u001b[39m     \u001b[38;5;28mself\u001b[39m._cmysql.converter_str_fallback = \u001b[38;5;28mself\u001b[39m._converter_str_fallback\n",
      "\u001b[31mMySQLInterfaceError\u001b[39m: Can't connect to MySQL server on 'localhost:3306' (10061)",
      "\nThe above exception was the direct cause of the following exception:\n",
      "\u001b[31mDatabaseError\u001b[39m                             Traceback (most recent call last)",
      "\u001b[36mCell\u001b[39m\u001b[36m \u001b[39m\u001b[32mIn[7]\u001b[39m\u001b[32m, line 1\u001b[39m\n\u001b[32m----> \u001b[39m\u001b[32m1\u001b[39m conn=\u001b[43mmysql\u001b[49m\u001b[43m.\u001b[49m\u001b[43mconnector\u001b[49m\u001b[43m.\u001b[49m\u001b[43mconnect\u001b[49m\u001b[43m(\u001b[49m\u001b[43mhost\u001b[49m\u001b[43m=\u001b[49m\u001b[33;43m'\u001b[39;49m\u001b[33;43mlocalhost\u001b[39;49m\u001b[33;43m'\u001b[39;49m\u001b[43m,\u001b[49m\u001b[43muser\u001b[49m\u001b[43m=\u001b[49m\u001b[33;43m'\u001b[39;49m\u001b[33;43mroot\u001b[39;49m\u001b[33;43m'\u001b[39;49m\u001b[43m,\u001b[49m\u001b[43mpassword\u001b[49m\u001b[43m=\u001b[49m\u001b[33;43m'\u001b[39;49m\u001b[33;43m'\u001b[39;49m\u001b[43m,\u001b[49m\u001b[43mdatabase\u001b[49m\u001b[43m=\u001b[49m\u001b[33;43m'\u001b[39;49m\u001b[33;43mworld\u001b[39;49m\u001b[33;43m'\u001b[39;49m\u001b[43m)\u001b[49m\n",
      "\u001b[36mFile \u001b[39m\u001b[32md:\\Programming\\Machine_Learning_Concept\\.machinelearning\\Lib\\site-packages\\mysql\\connector\\pooling.py:322\u001b[39m, in \u001b[36mconnect\u001b[39m\u001b[34m(*args, **kwargs)\u001b[39m\n\u001b[32m    319\u001b[39m         \u001b[38;5;28;01mraise\u001b[39;00m \u001b[38;5;167;01mImportError\u001b[39;00m(ERROR_NO_CEXT)\n\u001b[32m    321\u001b[39m \u001b[38;5;28;01mif\u001b[39;00m CMySQLConnection \u001b[38;5;129;01mand\u001b[39;00m \u001b[38;5;129;01mnot\u001b[39;00m use_pure:\n\u001b[32m--> \u001b[39m\u001b[32m322\u001b[39m     \u001b[38;5;28;01mreturn\u001b[39;00m \u001b[43mCMySQLConnection\u001b[49m\u001b[43m(\u001b[49m\u001b[43m*\u001b[49m\u001b[43margs\u001b[49m\u001b[43m,\u001b[49m\u001b[43m \u001b[49m\u001b[43m*\u001b[49m\u001b[43m*\u001b[49m\u001b[43mkwargs\u001b[49m\u001b[43m)\u001b[49m\n\u001b[32m    323\u001b[39m \u001b[38;5;28;01mreturn\u001b[39;00m MySQLConnection(*args, **kwargs)\n",
      "\u001b[36mFile \u001b[39m\u001b[32md:\\Programming\\Machine_Learning_Concept\\.machinelearning\\Lib\\site-packages\\mysql\\connector\\connection_cext.py:142\u001b[39m, in \u001b[36mCMySQLConnection.__init__\u001b[39m\u001b[34m(self, **kwargs)\u001b[39m\n\u001b[32m    140\u001b[39m \u001b[38;5;28;01mif\u001b[39;00m kwargs:\n\u001b[32m    141\u001b[39m     \u001b[38;5;28;01mtry\u001b[39;00m:\n\u001b[32m--> \u001b[39m\u001b[32m142\u001b[39m         \u001b[38;5;28;43mself\u001b[39;49m\u001b[43m.\u001b[49m\u001b[43mconnect\u001b[49m\u001b[43m(\u001b[49m\u001b[43m*\u001b[49m\u001b[43m*\u001b[49m\u001b[43mkwargs\u001b[49m\u001b[43m)\u001b[49m\n\u001b[32m    143\u001b[39m     \u001b[38;5;28;01mexcept\u001b[39;00m \u001b[38;5;167;01mException\u001b[39;00m:\n\u001b[32m    144\u001b[39m         \u001b[38;5;28mself\u001b[39m.close()\n",
      "\u001b[36mFile \u001b[39m\u001b[32md:\\Programming\\Machine_Learning_Concept\\.machinelearning\\Lib\\site-packages\\mysql\\connector\\abstracts.py:1605\u001b[39m, in \u001b[36mMySQLConnectionAbstract.connect\u001b[39m\u001b[34m(self, **kwargs)\u001b[39m\n\u001b[32m   1602\u001b[39m     \u001b[38;5;28mself\u001b[39m.config(**kwargs)\n\u001b[32m   1604\u001b[39m \u001b[38;5;28mself\u001b[39m.disconnect()\n\u001b[32m-> \u001b[39m\u001b[32m1605\u001b[39m \u001b[38;5;28;43mself\u001b[39;49m\u001b[43m.\u001b[49m\u001b[43m_open_connection\u001b[49m\u001b[43m(\u001b[49m\u001b[43m)\u001b[49m\n\u001b[32m   1607\u001b[39m charset, collation = (\n\u001b[32m   1608\u001b[39m     kwargs.pop(\u001b[33m\"\u001b[39m\u001b[33mcharset\u001b[39m\u001b[33m\"\u001b[39m, \u001b[38;5;28;01mNone\u001b[39;00m),\n\u001b[32m   1609\u001b[39m     kwargs.pop(\u001b[33m\"\u001b[39m\u001b[33mcollation\u001b[39m\u001b[33m\"\u001b[39m, \u001b[38;5;28;01mNone\u001b[39;00m),\n\u001b[32m   1610\u001b[39m )\n\u001b[32m   1611\u001b[39m \u001b[38;5;28;01mif\u001b[39;00m charset \u001b[38;5;129;01mor\u001b[39;00m collation:\n",
      "\u001b[36mFile \u001b[39m\u001b[32md:\\Programming\\Machine_Learning_Concept\\.machinelearning\\Lib\\site-packages\\mysql\\connector\\connection_cext.py:360\u001b[39m, in \u001b[36mCMySQLConnection._open_connection\u001b[39m\u001b[34m(self)\u001b[39m\n\u001b[32m    358\u001b[39m \u001b[38;5;28;01mexcept\u001b[39;00m MySQLInterfaceError \u001b[38;5;28;01mas\u001b[39;00m err:\n\u001b[32m    359\u001b[39m     \u001b[38;5;28;01mif\u001b[39;00m \u001b[38;5;28mhasattr\u001b[39m(err, \u001b[33m\"\u001b[39m\u001b[33merrno\u001b[39m\u001b[33m\"\u001b[39m):\n\u001b[32m--> \u001b[39m\u001b[32m360\u001b[39m         \u001b[38;5;28;01mraise\u001b[39;00m get_mysql_exception(\n\u001b[32m    361\u001b[39m             err.errno, msg=err.msg, sqlstate=err.sqlstate\n\u001b[32m    362\u001b[39m         ) \u001b[38;5;28;01mfrom\u001b[39;00m\u001b[38;5;250m \u001b[39m\u001b[34;01merr\u001b[39;00m\n\u001b[32m    363\u001b[39m     \u001b[38;5;28;01mraise\u001b[39;00m InterfaceError(\u001b[38;5;28mstr\u001b[39m(err)) \u001b[38;5;28;01mfrom\u001b[39;00m\u001b[38;5;250m \u001b[39m\u001b[34;01merr\u001b[39;00m\n\u001b[32m    365\u001b[39m \u001b[38;5;28mself\u001b[39m._do_handshake()\n",
      "\u001b[31mDatabaseError\u001b[39m: 2003 (HY000): Can't connect to MySQL server on 'localhost:3306' (10061)"
     ]
    }
   ],
   "source": [
    "conn=mysql.connector.connect(host='localhost',user='root',password='',database='world')"
   ]
  },
  {
   "cell_type": "code",
   "execution_count": null,
   "metadata": {},
   "outputs": [
    {
     "name": "stderr",
     "output_type": "stream",
     "text": [
      "C:\\Users\\sande\\AppData\\Local\\Temp\\ipykernel_3880\\1396627795.py:1: UserWarning: pandas only supports SQLAlchemy connectable (engine/connection) or database string URI or sqlite3 DBAPI2 connection. Other DBAPI2 objects are not tested. Please consider using SQLAlchemy.\n",
      "  df=pd.read_sql_query('select * from city',conn)\n"
     ]
    },
    {
     "data": {
      "text/html": [
       "<div>\n",
       "<style scoped>\n",
       "    .dataframe tbody tr th:only-of-type {\n",
       "        vertical-align: middle;\n",
       "    }\n",
       "\n",
       "    .dataframe tbody tr th {\n",
       "        vertical-align: top;\n",
       "    }\n",
       "\n",
       "    .dataframe thead th {\n",
       "        text-align: right;\n",
       "    }\n",
       "</style>\n",
       "<table border=\"1\" class=\"dataframe\">\n",
       "  <thead>\n",
       "    <tr style=\"text-align: right;\">\n",
       "      <th></th>\n",
       "      <th>ID</th>\n",
       "      <th>Name</th>\n",
       "      <th>CountryCode</th>\n",
       "      <th>District</th>\n",
       "      <th>Population</th>\n",
       "    </tr>\n",
       "  </thead>\n",
       "  <tbody>\n",
       "    <tr>\n",
       "      <th>0</th>\n",
       "      <td>1</td>\n",
       "      <td>Kabul</td>\n",
       "      <td>AFG</td>\n",
       "      <td>Kabol</td>\n",
       "      <td>1780000</td>\n",
       "    </tr>\n",
       "    <tr>\n",
       "      <th>1</th>\n",
       "      <td>2</td>\n",
       "      <td>Qandahar</td>\n",
       "      <td>AFG</td>\n",
       "      <td>Qandahar</td>\n",
       "      <td>237500</td>\n",
       "    </tr>\n",
       "    <tr>\n",
       "      <th>2</th>\n",
       "      <td>3</td>\n",
       "      <td>Herat</td>\n",
       "      <td>AFG</td>\n",
       "      <td>Herat</td>\n",
       "      <td>186800</td>\n",
       "    </tr>\n",
       "    <tr>\n",
       "      <th>3</th>\n",
       "      <td>4</td>\n",
       "      <td>Mazar-e-Sharif</td>\n",
       "      <td>AFG</td>\n",
       "      <td>Balkh</td>\n",
       "      <td>127800</td>\n",
       "    </tr>\n",
       "    <tr>\n",
       "      <th>4</th>\n",
       "      <td>5</td>\n",
       "      <td>Amsterdam</td>\n",
       "      <td>NLD</td>\n",
       "      <td>Noord-Holland</td>\n",
       "      <td>731200</td>\n",
       "    </tr>\n",
       "  </tbody>\n",
       "</table>\n",
       "</div>"
      ],
      "text/plain": [
       "   ID            Name CountryCode       District  Population\n",
       "0   1           Kabul         AFG          Kabol     1780000\n",
       "1   2        Qandahar         AFG       Qandahar      237500\n",
       "2   3           Herat         AFG          Herat      186800\n",
       "3   4  Mazar-e-Sharif         AFG          Balkh      127800\n",
       "4   5       Amsterdam         NLD  Noord-Holland      731200"
      ]
     },
     "execution_count": 20,
     "metadata": {},
     "output_type": "execute_result"
    }
   ],
   "source": [
    "df=pd.read_sql_query('select * from city',conn)\n",
    "df.head()"
   ]
  },
  {
   "cell_type": "code",
   "execution_count": null,
   "metadata": {},
   "outputs": [
    {
     "name": "stderr",
     "output_type": "stream",
     "text": [
      "C:\\Users\\sande\\AppData\\Local\\Temp\\ipykernel_3880\\1227638940.py:1: UserWarning: pandas only supports SQLAlchemy connectable (engine/connection) or database string URI or sqlite3 DBAPI2 connection. Other DBAPI2 objects are not tested. Please consider using SQLAlchemy.\n",
      "  df=pd.read_sql_query('select * from country',conn)\n"
     ]
    },
    {
     "data": {
      "text/html": [
       "<div>\n",
       "<style scoped>\n",
       "    .dataframe tbody tr th:only-of-type {\n",
       "        vertical-align: middle;\n",
       "    }\n",
       "\n",
       "    .dataframe tbody tr th {\n",
       "        vertical-align: top;\n",
       "    }\n",
       "\n",
       "    .dataframe thead th {\n",
       "        text-align: right;\n",
       "    }\n",
       "</style>\n",
       "<table border=\"1\" class=\"dataframe\">\n",
       "  <thead>\n",
       "    <tr style=\"text-align: right;\">\n",
       "      <th></th>\n",
       "      <th>Code</th>\n",
       "      <th>Name</th>\n",
       "      <th>Continent</th>\n",
       "      <th>Region</th>\n",
       "      <th>SurfaceArea</th>\n",
       "      <th>IndepYear</th>\n",
       "      <th>Population</th>\n",
       "      <th>LifeExpectancy</th>\n",
       "      <th>GNP</th>\n",
       "      <th>GNPOld</th>\n",
       "      <th>LocalName</th>\n",
       "      <th>GovernmentForm</th>\n",
       "      <th>HeadOfState</th>\n",
       "      <th>Capital</th>\n",
       "      <th>Code2</th>\n",
       "    </tr>\n",
       "  </thead>\n",
       "  <tbody>\n",
       "    <tr>\n",
       "      <th>0</th>\n",
       "      <td>ABW</td>\n",
       "      <td>Aruba</td>\n",
       "      <td>North America</td>\n",
       "      <td>Caribbean</td>\n",
       "      <td>193.0</td>\n",
       "      <td>NaN</td>\n",
       "      <td>103000</td>\n",
       "      <td>78.4</td>\n",
       "      <td>828.0</td>\n",
       "      <td>793.0</td>\n",
       "      <td>Aruba</td>\n",
       "      <td>Nonmetropolitan Territory of The Netherlands</td>\n",
       "      <td>Beatrix</td>\n",
       "      <td>129.0</td>\n",
       "      <td>AW</td>\n",
       "    </tr>\n",
       "    <tr>\n",
       "      <th>1</th>\n",
       "      <td>AFG</td>\n",
       "      <td>Afghanistan</td>\n",
       "      <td>Asia</td>\n",
       "      <td>Southern and Central Asia</td>\n",
       "      <td>652090.0</td>\n",
       "      <td>1919.0</td>\n",
       "      <td>22720000</td>\n",
       "      <td>45.9</td>\n",
       "      <td>5976.0</td>\n",
       "      <td>NaN</td>\n",
       "      <td>Afganistan/Afqanestan</td>\n",
       "      <td>Islamic Emirate</td>\n",
       "      <td>Mohammad Omar</td>\n",
       "      <td>1.0</td>\n",
       "      <td>AF</td>\n",
       "    </tr>\n",
       "    <tr>\n",
       "      <th>2</th>\n",
       "      <td>AGO</td>\n",
       "      <td>Angola</td>\n",
       "      <td>Africa</td>\n",
       "      <td>Central Africa</td>\n",
       "      <td>1246700.0</td>\n",
       "      <td>1975.0</td>\n",
       "      <td>12878000</td>\n",
       "      <td>38.3</td>\n",
       "      <td>6648.0</td>\n",
       "      <td>7984.0</td>\n",
       "      <td>Angola</td>\n",
       "      <td>Republic</td>\n",
       "      <td>José Eduardo dos Santos</td>\n",
       "      <td>56.0</td>\n",
       "      <td>AO</td>\n",
       "    </tr>\n",
       "    <tr>\n",
       "      <th>3</th>\n",
       "      <td>AIA</td>\n",
       "      <td>Anguilla</td>\n",
       "      <td>North America</td>\n",
       "      <td>Caribbean</td>\n",
       "      <td>96.0</td>\n",
       "      <td>NaN</td>\n",
       "      <td>8000</td>\n",
       "      <td>76.1</td>\n",
       "      <td>63.2</td>\n",
       "      <td>NaN</td>\n",
       "      <td>Anguilla</td>\n",
       "      <td>Dependent Territory of the UK</td>\n",
       "      <td>Elisabeth II</td>\n",
       "      <td>62.0</td>\n",
       "      <td>AI</td>\n",
       "    </tr>\n",
       "    <tr>\n",
       "      <th>4</th>\n",
       "      <td>ALB</td>\n",
       "      <td>Albania</td>\n",
       "      <td>Europe</td>\n",
       "      <td>Southern Europe</td>\n",
       "      <td>28748.0</td>\n",
       "      <td>1912.0</td>\n",
       "      <td>3401200</td>\n",
       "      <td>71.6</td>\n",
       "      <td>3205.0</td>\n",
       "      <td>2500.0</td>\n",
       "      <td>Shqipëria</td>\n",
       "      <td>Republic</td>\n",
       "      <td>Rexhep Mejdani</td>\n",
       "      <td>34.0</td>\n",
       "      <td>AL</td>\n",
       "    </tr>\n",
       "  </tbody>\n",
       "</table>\n",
       "</div>"
      ],
      "text/plain": [
       "  Code         Name      Continent                     Region  SurfaceArea  \\\n",
       "0  ABW        Aruba  North America                  Caribbean        193.0   \n",
       "1  AFG  Afghanistan           Asia  Southern and Central Asia     652090.0   \n",
       "2  AGO       Angola         Africa             Central Africa    1246700.0   \n",
       "3  AIA     Anguilla  North America                  Caribbean         96.0   \n",
       "4  ALB      Albania         Europe            Southern Europe      28748.0   \n",
       "\n",
       "   IndepYear  Population  LifeExpectancy     GNP  GNPOld  \\\n",
       "0        NaN      103000            78.4   828.0   793.0   \n",
       "1     1919.0    22720000            45.9  5976.0     NaN   \n",
       "2     1975.0    12878000            38.3  6648.0  7984.0   \n",
       "3        NaN        8000            76.1    63.2     NaN   \n",
       "4     1912.0     3401200            71.6  3205.0  2500.0   \n",
       "\n",
       "               LocalName                                GovernmentForm  \\\n",
       "0                  Aruba  Nonmetropolitan Territory of The Netherlands   \n",
       "1  Afganistan/Afqanestan                               Islamic Emirate   \n",
       "2                 Angola                                      Republic   \n",
       "3               Anguilla                 Dependent Territory of the UK   \n",
       "4              Shqipëria                                      Republic   \n",
       "\n",
       "               HeadOfState  Capital Code2  \n",
       "0                  Beatrix    129.0    AW  \n",
       "1            Mohammad Omar      1.0    AF  \n",
       "2  José Eduardo dos Santos     56.0    AO  \n",
       "3             Elisabeth II     62.0    AI  \n",
       "4           Rexhep Mejdani     34.0    AL  "
      ]
     },
     "execution_count": 21,
     "metadata": {},
     "output_type": "execute_result"
    }
   ],
   "source": [
    "df=pd.read_sql_query('select * from country',conn)\n",
    "df.head()"
   ]
  },
  {
   "cell_type": "code",
   "execution_count": null,
   "metadata": {},
   "outputs": [
    {
     "name": "stderr",
     "output_type": "stream",
     "text": [
      "C:\\Users\\sande\\AppData\\Local\\Temp\\ipykernel_3880\\3151301187.py:1: UserWarning: pandas only supports SQLAlchemy connectable (engine/connection) or database string URI or sqlite3 DBAPI2 connection. Other DBAPI2 objects are not tested. Please consider using SQLAlchemy.\n",
      "  pd.read_sql_query('select * from countrylanguage',conn)\n"
     ]
    },
    {
     "data": {
      "text/html": [
       "<div>\n",
       "<style scoped>\n",
       "    .dataframe tbody tr th:only-of-type {\n",
       "        vertical-align: middle;\n",
       "    }\n",
       "\n",
       "    .dataframe tbody tr th {\n",
       "        vertical-align: top;\n",
       "    }\n",
       "\n",
       "    .dataframe thead th {\n",
       "        text-align: right;\n",
       "    }\n",
       "</style>\n",
       "<table border=\"1\" class=\"dataframe\">\n",
       "  <thead>\n",
       "    <tr style=\"text-align: right;\">\n",
       "      <th></th>\n",
       "      <th>CountryCode</th>\n",
       "      <th>Language</th>\n",
       "      <th>IsOfficial</th>\n",
       "      <th>Percentage</th>\n",
       "    </tr>\n",
       "  </thead>\n",
       "  <tbody>\n",
       "    <tr>\n",
       "      <th>0</th>\n",
       "      <td>ABW</td>\n",
       "      <td>Dutch</td>\n",
       "      <td>T</td>\n",
       "      <td>5.3</td>\n",
       "    </tr>\n",
       "    <tr>\n",
       "      <th>1</th>\n",
       "      <td>ABW</td>\n",
       "      <td>English</td>\n",
       "      <td>F</td>\n",
       "      <td>9.5</td>\n",
       "    </tr>\n",
       "    <tr>\n",
       "      <th>2</th>\n",
       "      <td>ABW</td>\n",
       "      <td>Papiamento</td>\n",
       "      <td>F</td>\n",
       "      <td>76.7</td>\n",
       "    </tr>\n",
       "    <tr>\n",
       "      <th>3</th>\n",
       "      <td>ABW</td>\n",
       "      <td>Spanish</td>\n",
       "      <td>F</td>\n",
       "      <td>7.4</td>\n",
       "    </tr>\n",
       "    <tr>\n",
       "      <th>4</th>\n",
       "      <td>AFG</td>\n",
       "      <td>Balochi</td>\n",
       "      <td>F</td>\n",
       "      <td>0.9</td>\n",
       "    </tr>\n",
       "    <tr>\n",
       "      <th>...</th>\n",
       "      <td>...</td>\n",
       "      <td>...</td>\n",
       "      <td>...</td>\n",
       "      <td>...</td>\n",
       "    </tr>\n",
       "    <tr>\n",
       "      <th>979</th>\n",
       "      <td>ZMB</td>\n",
       "      <td>Tongan</td>\n",
       "      <td>F</td>\n",
       "      <td>11.0</td>\n",
       "    </tr>\n",
       "    <tr>\n",
       "      <th>980</th>\n",
       "      <td>ZWE</td>\n",
       "      <td>English</td>\n",
       "      <td>T</td>\n",
       "      <td>2.2</td>\n",
       "    </tr>\n",
       "    <tr>\n",
       "      <th>981</th>\n",
       "      <td>ZWE</td>\n",
       "      <td>Ndebele</td>\n",
       "      <td>F</td>\n",
       "      <td>16.2</td>\n",
       "    </tr>\n",
       "    <tr>\n",
       "      <th>982</th>\n",
       "      <td>ZWE</td>\n",
       "      <td>Nyanja</td>\n",
       "      <td>F</td>\n",
       "      <td>2.2</td>\n",
       "    </tr>\n",
       "    <tr>\n",
       "      <th>983</th>\n",
       "      <td>ZWE</td>\n",
       "      <td>Shona</td>\n",
       "      <td>F</td>\n",
       "      <td>72.1</td>\n",
       "    </tr>\n",
       "  </tbody>\n",
       "</table>\n",
       "<p>984 rows × 4 columns</p>\n",
       "</div>"
      ],
      "text/plain": [
       "    CountryCode    Language IsOfficial  Percentage\n",
       "0           ABW       Dutch          T         5.3\n",
       "1           ABW     English          F         9.5\n",
       "2           ABW  Papiamento          F        76.7\n",
       "3           ABW     Spanish          F         7.4\n",
       "4           AFG     Balochi          F         0.9\n",
       "..          ...         ...        ...         ...\n",
       "979         ZMB      Tongan          F        11.0\n",
       "980         ZWE     English          T         2.2\n",
       "981         ZWE     Ndebele          F        16.2\n",
       "982         ZWE      Nyanja          F         2.2\n",
       "983         ZWE       Shona          F        72.1\n",
       "\n",
       "[984 rows x 4 columns]"
      ]
     },
     "execution_count": 22,
     "metadata": {},
     "output_type": "execute_result"
    }
   ],
   "source": [
    "pd.read_sql_query('select * from countrylanguage',conn)"
   ]
  },
  {
   "cell_type": "markdown",
   "metadata": {},
   "source": [
    "#Working SQL"
   ]
  },
  {
   "cell_type": "code",
   "execution_count": null,
   "metadata": {},
   "outputs": [
    {
     "name": "stdout",
     "output_type": "stream",
     "text": [
      "[(1, 'Alice', 25), (2, 'Bob', 30), (3, 'Charlie', 35)]\n"
     ]
    }
   ],
   "source": [
    "import sqlite3  \n",
    "conn = sqlite3.connect('database.db')  \n",
    "cursor = conn.cursor()  \n",
    "\n",
    "# Create table if it does not exist\n",
    "cursor.execute('''\n",
    "CREATE TABLE IF NOT EXISTS users (\n",
    "\tid INTEGER PRIMARY KEY,\n",
    "\tname TEXT,\n",
    "\tage INTEGER\n",
    ")\n",
    "''')\n",
    "\t\n",
    "# Insert sample data if table is empty\n",
    "cursor.execute(\"SELECT COUNT(*) FROM users\")\n",
    "if cursor.fetchone()[0] == 0:\n",
    "\tcursor.execute(\"INSERT INTO users (name, age) VALUES ('Alice', 25)\")\n",
    "\tcursor.execute(\"INSERT INTO users (name, age) VALUES ('Bob', 30)\")\n",
    "\tcursor.execute(\"INSERT INTO users (name, age) VALUES ('Charlie', 35)\")\n",
    "\tconn.commit()\n",
    "\n",
    "cursor.execute(\"SELECT * FROM users\")  \n",
    "data = cursor.fetchall()  # Database से data लाना\n",
    "print(data)\n"
   ]
  }
 ],
 "metadata": {
  "kernelspec": {
   "display_name": ".machinelearning",
   "language": "python",
   "name": "python3"
  },
  "language_info": {
   "codemirror_mode": {
    "name": "ipython",
    "version": 3
   },
   "file_extension": ".py",
   "mimetype": "text/x-python",
   "name": "python",
   "nbconvert_exporter": "python",
   "pygments_lexer": "ipython3",
   "version": "3.13.5"
  }
 },
 "nbformat": 4,
 "nbformat_minor": 2
}
