{
 "cells": [
  {
   "cell_type": "code",
   "execution_count": 11,
   "metadata": {},
   "outputs": [],
   "source": [
    "import pandas as pd\n",
    "import requests\n",
    "from bs4 import BeautifulSoup\n",
    "import numpy as np\n",
    "import time\n",
    "import random\n",
    "\n",
    "headers = {\n",
    "    'User-Agent': 'Mozilla/5.0 (Windows NT 6.3; Win64; x64) AppleWebKit/537.36 (KHTML, like Gecko) Chrome/80.0.3987.162 Safari/537.36'\n",
    "}"
   ]
  },
  {
   "cell_type": "code",
   "execution_count": 12,
   "metadata": {},
   "outputs": [],
   "source": [
    "company_names = []\n",
    "ratings = []\n",
    "reviews = []\n",
    "salaries = []\n",
    "interviews = []\n",
    "locations = []\n",
    "tags = []"
   ]
  },
  {
   "cell_type": "code",
   "execution_count": 13,
   "metadata": {},
   "outputs": [
    {
     "name": "stdout",
     "output_type": "stream",
     "text": [
      "\n",
      "🔍 Scraping page 1...\n",
      "⏰ Timeout error. Skipping this page.\n",
      "\n",
      "🔍 Scraping page 2...\n",
      "⏰ Timeout error. Skipping this page.\n",
      "\n",
      "🔍 Scraping page 3...\n",
      "⏰ Timeout error. Skipping this page.\n",
      "\n",
      "🔍 Scraping page 4...\n",
      "⏰ Timeout error. Skipping this page.\n",
      "\n",
      "🔍 Scraping page 5...\n",
      "⏰ Timeout error. Skipping this page.\n"
     ]
    }
   ],
   "source": [
    "# Scraping pages 1 to 5\n",
    "for page in range(1, 6):\n",
    "    url = f\"https://www.ambitionbox.com/list-of-companies?page={page}\"\n",
    "    print(f\"\\n🔍 Scraping page {page}...\")\n",
    "\n",
    "    try:\n",
    "        response = requests.get(url, headers=headers, timeout=10)\n",
    "        response.raise_for_status()  # Raise an error for bad status codes\n",
    "        soup = BeautifulSoup(response.text, 'html.parser')\n",
    "\n",
    "        companies = soup.find_all(\"div\", class_=\"companyCardWrapper__companyCard\")\n",
    "\n",
    "        if not companies:\n",
    "            print(f\"⚠️ No company data found on page {page}.\")\n",
    "            continue\n",
    "\n",
    "        for company in companies:\n",
    "            try:\n",
    "                name = company.find(\"h2\").text.strip()\n",
    "            except:\n",
    "                name = np.nan\n",
    "            try:\n",
    "                rating = company.find(\"span\", class_=\"companyCardWrapper__companyRatingValue\").text.strip()\n",
    "            except:\n",
    "                rating = np.nan\n",
    "            try:\n",
    "                review = company.find(\"a\", class_=\"companyCardWrapper__reviewsText\").text.strip()\n",
    "            except:\n",
    "                review = np.nan\n",
    "            try:\n",
    "                salary = company.find(\"a\", class_=\"companyCardWrapper__salariesText\").text.strip()\n",
    "            except:\n",
    "                salary = np.nan\n",
    "            try:\n",
    "                interview = company.find(\"a\", class_=\"companyCardWrapper__interviewsText\").text.strip()\n",
    "            except:\n",
    "                interview = np.nan\n",
    "            try:\n",
    "                location = company.find(\"div\", class_=\"companyCardWrapper__location\").text.strip()\n",
    "            except:\n",
    "                location = np.nan\n",
    "            try:\n",
    "                tag = company.find(\"div\", class_=\"companyCardWrapper__companyTags\").text.strip()\n",
    "            except:\n",
    "                tag = np.nan\n",
    "\n",
    "            company_names.append(name)\n",
    "            ratings.append(rating)\n",
    "            reviews.append(review)\n",
    "            salaries.append(salary)\n",
    "            interviews.append(interview)\n",
    "            locations.append(location)\n",
    "            tags.append(tag)\n",
    "\n",
    "        # Pause to avoid rate-limiting\n",
    "        delay = random.uniform(2, 5)\n",
    "        print(f\"⏸️ Sleeping for {round(delay, 2)} seconds...\")\n",
    "        time.sleep(delay)\n",
    "\n",
    "    except requests.exceptions.ReadTimeout:\n",
    "        print(\"⏰ Timeout error. Skipping this page.\")\n",
    "        continue\n",
    "    except requests.exceptions.ConnectionError:\n",
    "        print(\"📡 Connection error. Retrying after 5 seconds...\")\n",
    "        time.sleep(5)\n",
    "        continue\n",
    "    except requests.exceptions.HTTPError as e:\n",
    "        print(f\"🚫 HTTP error: {e}\")\n",
    "        continue\n",
    "    except Exception as e:\n",
    "        print(f\"❌ Unexpected error: {e}\")\n",
    "        continue"
   ]
  },
  {
   "cell_type": "code",
   "execution_count": 14,
   "metadata": {},
   "outputs": [
    {
     "name": "stdout",
     "output_type": "stream",
     "text": [
      "\n",
      "✅ Scraping completed. Data saved to 'ambitionbox_companies.csv'.\n"
     ]
    }
   ],
   "source": [
    "# Create a DataFrame\n",
    "df = pd.DataFrame({\n",
    "    'Company Name': company_names,\n",
    "    'Rating': ratings,\n",
    "    'Reviews': reviews,\n",
    "    'Salaries': salaries,\n",
    "    'Interviews': interviews,\n",
    "    'Location': locations,\n",
    "    'Tags': tags\n",
    "})\n",
    "\n",
    "# Save to CSV\n",
    "df.to_csv('ambitionbox_companies.csv', index=False)\n",
    "print(\"\\n✅ Scraping completed. Data saved to 'ambitionbox_companies.csv'.\")"
   ]
  },
  {
   "cell_type": "code",
   "execution_count": 15,
   "metadata": {},
   "outputs": [
    {
     "data": {
      "application/vnd.microsoft.datawrangler.viewer.v0+json": {
       "columns": [
        {
         "name": "index",
         "rawType": "int64",
         "type": "integer"
        },
        {
         "name": "Company Name",
         "rawType": "float64",
         "type": "float"
        },
        {
         "name": "Rating",
         "rawType": "float64",
         "type": "float"
        },
        {
         "name": "Reviews",
         "rawType": "float64",
         "type": "float"
        },
        {
         "name": "Salaries",
         "rawType": "float64",
         "type": "float"
        },
        {
         "name": "Interviews",
         "rawType": "float64",
         "type": "float"
        },
        {
         "name": "Location",
         "rawType": "float64",
         "type": "float"
        },
        {
         "name": "Tags",
         "rawType": "float64",
         "type": "float"
        }
       ],
       "ref": "8ef2b72f-a0fb-47c9-b335-8a04ebf1d91d",
       "rows": [],
       "shape": {
        "columns": 7,
        "rows": 0
       }
      },
      "text/html": [
       "<div>\n",
       "<style scoped>\n",
       "    .dataframe tbody tr th:only-of-type {\n",
       "        vertical-align: middle;\n",
       "    }\n",
       "\n",
       "    .dataframe tbody tr th {\n",
       "        vertical-align: top;\n",
       "    }\n",
       "\n",
       "    .dataframe thead th {\n",
       "        text-align: right;\n",
       "    }\n",
       "</style>\n",
       "<table border=\"1\" class=\"dataframe\">\n",
       "  <thead>\n",
       "    <tr style=\"text-align: right;\">\n",
       "      <th></th>\n",
       "      <th>Company Name</th>\n",
       "      <th>Rating</th>\n",
       "      <th>Reviews</th>\n",
       "      <th>Salaries</th>\n",
       "      <th>Interviews</th>\n",
       "      <th>Location</th>\n",
       "      <th>Tags</th>\n",
       "    </tr>\n",
       "  </thead>\n",
       "  <tbody>\n",
       "  </tbody>\n",
       "</table>\n",
       "</div>"
      ],
      "text/plain": [
       "Empty DataFrame\n",
       "Columns: [Company Name, Rating, Reviews, Salaries, Interviews, Location, Tags]\n",
       "Index: []"
      ]
     },
     "execution_count": 15,
     "metadata": {},
     "output_type": "execute_result"
    }
   ],
   "source": [
    "df.head()"
   ]
  }
 ],
 "metadata": {
  "kernelspec": {
   "display_name": ".machinelearning (3.13.5)",
   "language": "python",
   "name": "python3"
  },
  "language_info": {
   "codemirror_mode": {
    "name": "ipython",
    "version": 3
   },
   "file_extension": ".py",
   "mimetype": "text/x-python",
   "name": "python",
   "nbconvert_exporter": "python",
   "pygments_lexer": "ipython3",
   "version": "3.13.5"
  }
 },
 "nbformat": 4,
 "nbformat_minor": 2
}
