{
 "cells": [
  {
   "cell_type": "code",
   "execution_count": 1,
   "metadata": {},
   "outputs": [
    {
     "name": "stdout",
     "output_type": "stream",
     "text": [
      "Collecting bokeh\n",
      "  Downloading bokeh-3.7.1-py3-none-any.whl.metadata (12 kB)\n",
      "Requirement already satisfied: Jinja2>=2.9 in c:\\users\\sande\\desktop\\machine_learning_concept\\myenv\\lib\\site-packages (from bokeh) (3.1.5)\n",
      "Requirement already satisfied: contourpy>=1.2 in c:\\users\\sande\\desktop\\machine_learning_concept\\myenv\\lib\\site-packages (from bokeh) (1.3.1)\n",
      "Requirement already satisfied: narwhals>=1.13 in c:\\users\\sande\\desktop\\machine_learning_concept\\myenv\\lib\\site-packages (from bokeh) (1.28.0)\n",
      "Requirement already satisfied: numpy>=1.16 in c:\\users\\sande\\desktop\\machine_learning_concept\\myenv\\lib\\site-packages (from bokeh) (2.1.3)\n",
      "Requirement already satisfied: packaging>=16.8 in c:\\users\\sande\\desktop\\machine_learning_concept\\myenv\\lib\\site-packages (from bokeh) (24.2)\n",
      "Requirement already satisfied: pandas>=1.2 in c:\\users\\sande\\desktop\\machine_learning_concept\\myenv\\lib\\site-packages (from bokeh) (2.2.3)\n",
      "Requirement already satisfied: pillow>=7.1.0 in c:\\users\\sande\\desktop\\machine_learning_concept\\myenv\\lib\\site-packages (from bokeh) (11.1.0)\n",
      "Requirement already satisfied: PyYAML>=3.10 in c:\\users\\sande\\desktop\\machine_learning_concept\\myenv\\lib\\site-packages (from bokeh) (6.0.2)\n",
      "Requirement already satisfied: tornado>=6.2 in c:\\users\\sande\\desktop\\machine_learning_concept\\myenv\\lib\\site-packages (from bokeh) (6.4.2)\n",
      "Collecting xyzservices>=2021.09.1 (from bokeh)\n",
      "  Downloading xyzservices-2025.1.0-py3-none-any.whl.metadata (4.3 kB)\n",
      "Requirement already satisfied: MarkupSafe>=2.0 in c:\\users\\sande\\desktop\\machine_learning_concept\\myenv\\lib\\site-packages (from Jinja2>=2.9->bokeh) (2.1.5)\n",
      "Requirement already satisfied: python-dateutil>=2.8.2 in c:\\users\\sande\\desktop\\machine_learning_concept\\myenv\\lib\\site-packages (from pandas>=1.2->bokeh) (2.9.0.post0)\n",
      "Requirement already satisfied: pytz>=2020.1 in c:\\users\\sande\\desktop\\machine_learning_concept\\myenv\\lib\\site-packages (from pandas>=1.2->bokeh) (2024.2)\n",
      "Requirement already satisfied: tzdata>=2022.7 in c:\\users\\sande\\desktop\\machine_learning_concept\\myenv\\lib\\site-packages (from pandas>=1.2->bokeh) (2025.1)\n",
      "Requirement already satisfied: six>=1.5 in c:\\users\\sande\\desktop\\machine_learning_concept\\myenv\\lib\\site-packages (from python-dateutil>=2.8.2->pandas>=1.2->bokeh) (1.17.0)\n",
      "Downloading bokeh-3.7.1-py3-none-any.whl (7.0 MB)\n",
      "   ---------------------------------------- 0.0/7.0 MB ? eta -:--:--\n",
      "   -- ------------------------------------- 0.5/7.0 MB 4.2 MB/s eta 0:00:02\n",
      "   -------- ------------------------------- 1.6/7.0 MB 5.2 MB/s eta 0:00:02\n",
      "   ---------------- ----------------------- 2.9/7.0 MB 5.2 MB/s eta 0:00:01\n",
      "   ----------------------- ---------------- 4.2/7.0 MB 5.6 MB/s eta 0:00:01\n",
      "   ------------------------------- -------- 5.5/7.0 MB 5.7 MB/s eta 0:00:01\n",
      "   ------------------------------------- -- 6.6/7.0 MB 5.8 MB/s eta 0:00:01\n",
      "   ---------------------------------------- 7.0/7.0 MB 5.5 MB/s eta 0:00:00\n",
      "Downloading xyzservices-2025.1.0-py3-none-any.whl (88 kB)\n",
      "Installing collected packages: xyzservices, bokeh\n",
      "Successfully installed bokeh-3.7.1 xyzservices-2025.1.0\n",
      "Note: you may need to restart the kernel to use updated packages.\n"
     ]
    }
   ],
   "source": [
    "import pandas as pd\n",
    "import numpy as np\n",
    "import matplotlib.pyplot as plt\n",
    "import seaborn as sns\n",
    "import scipy as sp\n",
    "from math import pi\n",
    "%pip install bokeh"
   ]
  },
  {
   "cell_type": "code",
   "execution_count": null,
   "metadata": {},
   "outputs": [],
   "source": [
    "import bokeh\n",
    "from bokeh.io import output_notebook, show\n",
    "from bokeh.plotting import figure\n",
    "from bokeh.palettes import inferno\n",
    "from bokeh.transform import cumsum\n"
   ]
  },
  {
   "cell_type": "code",
   "execution_count": 4,
   "metadata": {},
   "outputs": [
    {
     "data": {
      "text/html": [
       "<div>\n",
       "<style scoped>\n",
       "    .dataframe tbody tr th:only-of-type {\n",
       "        vertical-align: middle;\n",
       "    }\n",
       "\n",
       "    .dataframe tbody tr th {\n",
       "        vertical-align: top;\n",
       "    }\n",
       "\n",
       "    .dataframe thead th {\n",
       "        text-align: right;\n",
       "    }\n",
       "</style>\n",
       "<table border=\"1\" class=\"dataframe\">\n",
       "  <thead>\n",
       "    <tr style=\"text-align: right;\">\n",
       "      <th></th>\n",
       "      <th>Date</th>\n",
       "      <th>Time</th>\n",
       "      <th>Transaction</th>\n",
       "      <th>Item</th>\n",
       "    </tr>\n",
       "  </thead>\n",
       "  <tbody>\n",
       "    <tr>\n",
       "      <th>0</th>\n",
       "      <td>2016-10-30</td>\n",
       "      <td>09:58:11</td>\n",
       "      <td>1</td>\n",
       "      <td>Bread</td>\n",
       "    </tr>\n",
       "    <tr>\n",
       "      <th>1</th>\n",
       "      <td>2016-10-30</td>\n",
       "      <td>10:05:34</td>\n",
       "      <td>2</td>\n",
       "      <td>Scandinavian</td>\n",
       "    </tr>\n",
       "    <tr>\n",
       "      <th>2</th>\n",
       "      <td>2016-10-30</td>\n",
       "      <td>10:05:34</td>\n",
       "      <td>2</td>\n",
       "      <td>Scandinavian</td>\n",
       "    </tr>\n",
       "    <tr>\n",
       "      <th>3</th>\n",
       "      <td>2016-10-30</td>\n",
       "      <td>10:07:57</td>\n",
       "      <td>3</td>\n",
       "      <td>Hot chocolate</td>\n",
       "    </tr>\n",
       "    <tr>\n",
       "      <th>4</th>\n",
       "      <td>2016-10-30</td>\n",
       "      <td>10:07:57</td>\n",
       "      <td>3</td>\n",
       "      <td>Jam</td>\n",
       "    </tr>\n",
       "  </tbody>\n",
       "</table>\n",
       "</div>"
      ],
      "text/plain": [
       "         Date      Time  Transaction           Item\n",
       "0  2016-10-30  09:58:11            1          Bread\n",
       "1  2016-10-30  10:05:34            2   Scandinavian\n",
       "2  2016-10-30  10:05:34            2   Scandinavian\n",
       "3  2016-10-30  10:07:57            3  Hot chocolate\n",
       "4  2016-10-30  10:07:57            3            Jam"
      ]
     },
     "execution_count": 4,
     "metadata": {},
     "output_type": "execute_result"
    }
   ],
   "source": [
    "df=pd.read_csv('Bread_Basket.csv')\n",
    "df.head()"
   ]
  },
  {
   "cell_type": "code",
   "execution_count": 10,
   "metadata": {},
   "outputs": [
    {
     "data": {
      "text/plain": [
       "(             Date      Time  Transaction      Item\n",
       " 12303  2017-02-02  15:58:52         5818    Coffee\n",
       " 10224  2017-01-18  10:39:20         4872    Coffee\n",
       " 19304  2017-03-25  14:29:13         8803  Sandwich\n",
       " 4724   2016-11-28  12:05:00         2235  Sandwich\n",
       " 18059  2017-03-16  12:44:27         8239     Bread,\n",
       " (21293, 4))"
      ]
     },
     "execution_count": 10,
     "metadata": {},
     "output_type": "execute_result"
    }
   ],
   "source": [
    "df.sample(5),df.shape"
   ]
  },
  {
   "cell_type": "code",
   "execution_count": null,
   "metadata": {},
   "outputs": [],
   "source": []
  }
 ],
 "metadata": {
  "kernelspec": {
   "display_name": "myenv",
   "language": "python",
   "name": "python3"
  },
  "language_info": {
   "codemirror_mode": {
    "name": "ipython",
    "version": 3
   },
   "file_extension": ".py",
   "mimetype": "text/x-python",
   "name": "python",
   "nbconvert_exporter": "python",
   "pygments_lexer": "ipython3",
   "version": "3.12.5"
  }
 },
 "nbformat": 4,
 "nbformat_minor": 2
}
