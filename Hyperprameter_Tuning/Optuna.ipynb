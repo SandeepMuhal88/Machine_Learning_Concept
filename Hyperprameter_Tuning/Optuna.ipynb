{
 "cells": [
  {
   "cell_type": "code",
   "execution_count": 7,
   "id": "c9a46f36",
   "metadata": {},
   "outputs": [],
   "source": [
    "# %pip install optuna"
   ]
  },
  {
   "cell_type": "code",
   "execution_count": 8,
   "id": "f5d9694e",
   "metadata": {},
   "outputs": [
    {
     "data": {
      "application/vnd.microsoft.datawrangler.viewer.v0+json": {
       "columns": [
        {
         "name": "index",
         "rawType": "int64",
         "type": "integer"
        },
        {
         "name": "Pregnancies",
         "rawType": "int64",
         "type": "integer"
        },
        {
         "name": "Glucose",
         "rawType": "int64",
         "type": "integer"
        },
        {
         "name": "BloodPressure",
         "rawType": "int64",
         "type": "integer"
        },
        {
         "name": "SkinThickness",
         "rawType": "int64",
         "type": "integer"
        },
        {
         "name": "Insulin",
         "rawType": "int64",
         "type": "integer"
        },
        {
         "name": "BMI",
         "rawType": "float64",
         "type": "float"
        },
        {
         "name": "DiabetesPedigreeFunction",
         "rawType": "float64",
         "type": "float"
        },
        {
         "name": "Age",
         "rawType": "int64",
         "type": "integer"
        },
        {
         "name": "Outcome",
         "rawType": "int64",
         "type": "integer"
        }
       ],
       "ref": "972509b6-685a-424f-8ae0-6fc0fd28ebdc",
       "rows": [
        [
         "0",
         "6",
         "148",
         "72",
         "35",
         "0",
         "33.6",
         "0.627",
         "50",
         "1"
        ],
        [
         "1",
         "1",
         "85",
         "66",
         "29",
         "0",
         "26.6",
         "0.351",
         "31",
         "0"
        ],
        [
         "2",
         "8",
         "183",
         "64",
         "0",
         "0",
         "23.3",
         "0.672",
         "32",
         "1"
        ],
        [
         "3",
         "1",
         "89",
         "66",
         "23",
         "94",
         "28.1",
         "0.167",
         "21",
         "0"
        ],
        [
         "4",
         "0",
         "137",
         "40",
         "35",
         "168",
         "43.1",
         "2.288",
         "33",
         "1"
        ]
       ],
       "shape": {
        "columns": 9,
        "rows": 5
       }
      },
      "text/html": [
       "<div>\n",
       "<style scoped>\n",
       "    .dataframe tbody tr th:only-of-type {\n",
       "        vertical-align: middle;\n",
       "    }\n",
       "\n",
       "    .dataframe tbody tr th {\n",
       "        vertical-align: top;\n",
       "    }\n",
       "\n",
       "    .dataframe thead th {\n",
       "        text-align: right;\n",
       "    }\n",
       "</style>\n",
       "<table border=\"1\" class=\"dataframe\">\n",
       "  <thead>\n",
       "    <tr style=\"text-align: right;\">\n",
       "      <th></th>\n",
       "      <th>Pregnancies</th>\n",
       "      <th>Glucose</th>\n",
       "      <th>BloodPressure</th>\n",
       "      <th>SkinThickness</th>\n",
       "      <th>Insulin</th>\n",
       "      <th>BMI</th>\n",
       "      <th>DiabetesPedigreeFunction</th>\n",
       "      <th>Age</th>\n",
       "      <th>Outcome</th>\n",
       "    </tr>\n",
       "  </thead>\n",
       "  <tbody>\n",
       "    <tr>\n",
       "      <th>0</th>\n",
       "      <td>6</td>\n",
       "      <td>148</td>\n",
       "      <td>72</td>\n",
       "      <td>35</td>\n",
       "      <td>0</td>\n",
       "      <td>33.6</td>\n",
       "      <td>0.627</td>\n",
       "      <td>50</td>\n",
       "      <td>1</td>\n",
       "    </tr>\n",
       "    <tr>\n",
       "      <th>1</th>\n",
       "      <td>1</td>\n",
       "      <td>85</td>\n",
       "      <td>66</td>\n",
       "      <td>29</td>\n",
       "      <td>0</td>\n",
       "      <td>26.6</td>\n",
       "      <td>0.351</td>\n",
       "      <td>31</td>\n",
       "      <td>0</td>\n",
       "    </tr>\n",
       "    <tr>\n",
       "      <th>2</th>\n",
       "      <td>8</td>\n",
       "      <td>183</td>\n",
       "      <td>64</td>\n",
       "      <td>0</td>\n",
       "      <td>0</td>\n",
       "      <td>23.3</td>\n",
       "      <td>0.672</td>\n",
       "      <td>32</td>\n",
       "      <td>1</td>\n",
       "    </tr>\n",
       "    <tr>\n",
       "      <th>3</th>\n",
       "      <td>1</td>\n",
       "      <td>89</td>\n",
       "      <td>66</td>\n",
       "      <td>23</td>\n",
       "      <td>94</td>\n",
       "      <td>28.1</td>\n",
       "      <td>0.167</td>\n",
       "      <td>21</td>\n",
       "      <td>0</td>\n",
       "    </tr>\n",
       "    <tr>\n",
       "      <th>4</th>\n",
       "      <td>0</td>\n",
       "      <td>137</td>\n",
       "      <td>40</td>\n",
       "      <td>35</td>\n",
       "      <td>168</td>\n",
       "      <td>43.1</td>\n",
       "      <td>2.288</td>\n",
       "      <td>33</td>\n",
       "      <td>1</td>\n",
       "    </tr>\n",
       "  </tbody>\n",
       "</table>\n",
       "</div>"
      ],
      "text/plain": [
       "   Pregnancies  Glucose  BloodPressure  SkinThickness  Insulin   BMI  \\\n",
       "0            6      148             72             35        0  33.6   \n",
       "1            1       85             66             29        0  26.6   \n",
       "2            8      183             64              0        0  23.3   \n",
       "3            1       89             66             23       94  28.1   \n",
       "4            0      137             40             35      168  43.1   \n",
       "\n",
       "   DiabetesPedigreeFunction  Age  Outcome  \n",
       "0                     0.627   50        1  \n",
       "1                     0.351   31        0  \n",
       "2                     0.672   32        1  \n",
       "3                     0.167   21        0  \n",
       "4                     2.288   33        1  "
      ]
     },
     "execution_count": 8,
     "metadata": {},
     "output_type": "execute_result"
    }
   ],
   "source": [
    "# Import necessary libraries\n",
    "import optuna\n",
    "from sklearn.datasets import load_diabetes\n",
    "from sklearn.model_selection import train_test_split\n",
    "from sklearn.preprocessing import StandardScaler\n",
    "\n",
    "# Load the Pima Indian Diabetes dataset from sklearn\n",
    "# Note: Scikit-learn's built-in 'load_diabetes' is a regression dataset.\n",
    "# We will load the actual diabetes dataset from an external source\n",
    "import pandas as pd\n",
    "\n",
    "# Load the Pima Indian Diabetes dataset (from UCI repository)\n",
    "url = \"https://raw.githubusercontent.com/jbrownlee/Datasets/master/pima-indians-diabetes.data.csv\"\n",
    "columns = ['Pregnancies', 'Glucose', 'BloodPressure', 'SkinThickness', 'Insulin', 'BMI',\n",
    "           'DiabetesPedigreeFunction', 'Age', 'Outcome']\n",
    "\n",
    "# Load the dataset\n",
    "df = pd.read_csv(url, names=columns)\n",
    "\n",
    "df.head()"
   ]
  },
  {
   "cell_type": "code",
   "execution_count": 9,
   "id": "6dfb698c",
   "metadata": {},
   "outputs": [
    {
     "name": "stdout",
     "output_type": "stream",
     "text": [
      "Pregnancies                 0\n",
      "Glucose                     0\n",
      "BloodPressure               0\n",
      "SkinThickness               0\n",
      "Insulin                     0\n",
      "BMI                         0\n",
      "DiabetesPedigreeFunction    0\n",
      "Age                         0\n",
      "Outcome                     0\n",
      "dtype: int64\n"
     ]
    }
   ],
   "source": [
    "import numpy as np\n",
    "\n",
    "# Replace zero values with NaN in columns where zero is not a valid value\n",
    "cols_with_missing_vals = ['Glucose', 'BloodPressure', 'SkinThickness', 'Insulin', 'BMI']\n",
    "df[cols_with_missing_vals] = df[cols_with_missing_vals].replace(0, np.nan)\n",
    "\n",
    "# Impute the missing values with the mean of the respective column\n",
    "df.fillna(df.mean(), inplace=True)\n",
    "\n",
    "# Check if there are any remaining missing values\n",
    "print(df.isnull().sum())"
   ]
  },
  {
   "cell_type": "code",
   "execution_count": 12,
   "id": "3688c6ee",
   "metadata": {},
   "outputs": [],
   "source": [
    "# Split the data into features and target\n",
    "X = df.drop('Outcome', axis=1)\n",
    "y = df['Outcome']\n",
    "\n",
    "# Split into training and test sets\n",
    "X_train, X_test, y_train, y_test = train_test_split(X, y, test_size=0.2, random_state=42)"
   ]
  },
  {
   "cell_type": "code",
   "execution_count": 13,
   "id": "95893ad5",
   "metadata": {},
   "outputs": [],
   "source": [
    "from sklearn.ensemble import RandomForestClassifier\n",
    "from sklearn.model_selection import cross_val_score\n",
    "\n",
    "# Define the objective function\n",
    "def objective(trial):\n",
    "    # Suggest values for the hyperparameters\n",
    "    n_estimators = trial.suggest_int('n_estimators', 50, 200)\n",
    "    max_depth = trial.suggest_int('max_depth', 3, 20)\n",
    "\n",
    "    # Create the RandomForestClassifier with suggested hyperparameters\n",
    "    model = RandomForestClassifier(\n",
    "        n_estimators=n_estimators,\n",
    "        max_depth=max_depth,\n",
    "        random_state=42\n",
    "    )\n",
    "\n",
    "    # Perform 3-fold cross-validation and calculate accuracy\n",
    "    score = cross_val_score(model, X_train, y_train, cv=3, scoring='accuracy').mean()\n",
    "\n",
    "    return score  # Return the accuracy score for Optuna to maximize\n"
   ]
  },
  {
   "cell_type": "code",
   "execution_count": 14,
   "id": "353cf45e",
   "metadata": {},
   "outputs": [
    {
     "name": "stderr",
     "output_type": "stream",
     "text": [
      "[I 2025-07-12 19:02:23,125] A new study created in memory with name: no-name-4d1dd992-a494-4bc7-b089-41ac3e4ed53e\n",
      "[I 2025-07-12 19:02:23,449] Trial 0 finished with value: 0.7589430894308943 and parameters: {'n_estimators': 128, 'max_depth': 4}. Best is trial 0 with value: 0.7589430894308943.\n",
      "[I 2025-07-12 19:02:23,674] Trial 1 finished with value: 0.7638291088793241 and parameters: {'n_estimators': 83, 'max_depth': 8}. Best is trial 1 with value: 0.7638291088793241.\n",
      "[I 2025-07-12 19:02:23,884] Trial 2 finished with value: 0.7491630798660928 and parameters: {'n_estimators': 91, 'max_depth': 3}. Best is trial 1 with value: 0.7638291088793241.\n",
      "[I 2025-07-12 19:02:24,408] Trial 3 finished with value: 0.7687071576598119 and parameters: {'n_estimators': 187, 'max_depth': 14}. Best is trial 3 with value: 0.7687071576598119.\n",
      "[I 2025-07-12 19:02:24,845] Trial 4 finished with value: 0.7736011477761836 and parameters: {'n_estimators': 157, 'max_depth': 8}. Best is trial 4 with value: 0.7736011477761836.\n",
      "[I 2025-07-12 19:02:25,093] Trial 5 finished with value: 0.7670970827355332 and parameters: {'n_estimators': 84, 'max_depth': 8}. Best is trial 4 with value: 0.7736011477761836.\n",
      "[I 2025-07-12 19:02:25,373] Trial 6 finished with value: 0.771983102183963 and parameters: {'n_estimators': 91, 'max_depth': 13}. Best is trial 4 with value: 0.7736011477761836.\n",
      "[I 2025-07-12 19:02:25,827] Trial 7 finished with value: 0.7752191933684043 and parameters: {'n_estimators': 158, 'max_depth': 10}. Best is trial 7 with value: 0.7752191933684043.\n",
      "[I 2025-07-12 19:02:26,273] Trial 8 finished with value: 0.7719591901801371 and parameters: {'n_estimators': 173, 'max_depth': 6}. Best is trial 7 with value: 0.7752191933684043.\n",
      "[I 2025-07-12 19:02:26,640] Trial 9 finished with value: 0.7752271640363463 and parameters: {'n_estimators': 122, 'max_depth': 16}. Best is trial 9 with value: 0.7752271640363463.\n",
      "[I 2025-07-12 19:02:26,825] Trial 10 finished with value: 0.7703331739199745 and parameters: {'n_estimators': 51, 'max_depth': 20}. Best is trial 9 with value: 0.7752271640363463.\n",
      "[I 2025-07-12 19:02:27,215] Trial 11 finished with value: 0.7703411445879165 and parameters: {'n_estimators': 135, 'max_depth': 17}. Best is trial 9 with value: 0.7752271640363463.\n",
      "[I 2025-07-12 19:02:27,654] Trial 12 finished with value: 0.776837238960625 and parameters: {'n_estimators': 151, 'max_depth': 16}. Best is trial 12 with value: 0.776837238960625.\n",
      "[I 2025-07-12 19:02:27,975] Trial 13 finished with value: 0.78012912482066 and parameters: {'n_estimators': 114, 'max_depth': 16}. Best is trial 13 with value: 0.78012912482066.\n",
      "[I 2025-07-12 19:02:28,279] Trial 14 finished with value: 0.7736091184441256 and parameters: {'n_estimators': 108, 'max_depth': 20}. Best is trial 13 with value: 0.78012912482066.\n",
      "[I 2025-07-12 19:02:28,738] Trial 15 finished with value: 0.7752112227004623 and parameters: {'n_estimators': 155, 'max_depth': 15}. Best is trial 13 with value: 0.78012912482066.\n",
      "[I 2025-07-12 19:02:29,282] Trial 16 finished with value: 0.7768452096285668 and parameters: {'n_estimators': 199, 'max_depth': 18}. Best is trial 13 with value: 0.78012912482066.\n",
      "[I 2025-07-12 19:02:29,843] Trial 17 finished with value: 0.7735852064402997 and parameters: {'n_estimators': 199, 'max_depth': 19}. Best is trial 13 with value: 0.78012912482066.\n",
      "[I 2025-07-12 19:02:29,994] Trial 18 finished with value: 0.771967160848079 and parameters: {'n_estimators': 51, 'max_depth': 18}. Best is trial 13 with value: 0.78012912482066.\n",
      "[I 2025-07-12 19:02:30,328] Trial 19 finished with value: 0.7736170891120676 and parameters: {'n_estimators': 115, 'max_depth': 12}. Best is trial 13 with value: 0.78012912482066.\n",
      "[I 2025-07-12 19:02:30,538] Trial 20 finished with value: 0.7638370795472661 and parameters: {'n_estimators': 71, 'max_depth': 11}. Best is trial 13 with value: 0.78012912482066.\n",
      "[I 2025-07-12 19:02:30,920] Trial 21 finished with value: 0.7687071576598119 and parameters: {'n_estimators': 136, 'max_depth': 17}. Best is trial 13 with value: 0.78012912482066.\n",
      "[I 2025-07-12 19:02:31,408] Trial 22 finished with value: 0.7687071576598119 and parameters: {'n_estimators': 177, 'max_depth': 15}. Best is trial 13 with value: 0.78012912482066.\n",
      "[I 2025-07-12 19:02:31,810] Trial 23 finished with value: 0.7752271640363463 and parameters: {'n_estimators': 144, 'max_depth': 17}. Best is trial 13 with value: 0.78012912482066.\n",
      "[I 2025-07-12 19:02:32,125] Trial 24 finished with value: 0.7736091184441256 and parameters: {'n_estimators': 105, 'max_depth': 14}. Best is trial 13 with value: 0.78012912482066.\n",
      "[I 2025-07-12 19:02:32,669] Trial 25 finished with value: 0.7768452096285668 and parameters: {'n_estimators': 199, 'max_depth': 18}. Best is trial 13 with value: 0.78012912482066.\n",
      "[I 2025-07-12 19:02:33,203] Trial 26 finished with value: 0.7686991869918699 and parameters: {'n_estimators': 194, 'max_depth': 19}. Best is trial 13 with value: 0.78012912482066.\n",
      "[I 2025-07-12 19:02:33,683] Trial 27 finished with value: 0.7752191933684043 and parameters: {'n_estimators': 172, 'max_depth': 18}. Best is trial 13 with value: 0.78012912482066.\n",
      "[I 2025-07-12 19:02:34,200] Trial 28 finished with value: 0.7686991869918699 and parameters: {'n_estimators': 182, 'max_depth': 19}. Best is trial 13 with value: 0.78012912482066.\n",
      "[I 2025-07-12 19:02:34,675] Trial 29 finished with value: 0.771967160848079 and parameters: {'n_estimators': 168, 'max_depth': 15}. Best is trial 13 with value: 0.78012912482066.\n",
      "[I 2025-07-12 19:02:35,231] Trial 30 finished with value: 0.7752191933684043 and parameters: {'n_estimators': 200, 'max_depth': 18}. Best is trial 13 with value: 0.78012912482066.\n",
      "[I 2025-07-12 19:02:35,742] Trial 31 finished with value: 0.7752112227004623 and parameters: {'n_estimators': 185, 'max_depth': 16}. Best is trial 13 with value: 0.78012912482066.\n",
      "[I 2025-07-12 19:02:36,109] Trial 32 finished with value: 0.7752271640363463 and parameters: {'n_estimators': 129, 'max_depth': 16}. Best is trial 13 with value: 0.78012912482066.\n",
      "[I 2025-07-12 19:02:36,543] Trial 33 finished with value: 0.7817391997449387 and parameters: {'n_estimators': 150, 'max_depth': 13}. Best is trial 33 with value: 0.7817391997449387.\n",
      "[I 2025-07-12 19:02:37,002] Trial 34 finished with value: 0.7833731866730432 and parameters: {'n_estimators': 165, 'max_depth': 13}. Best is trial 34 with value: 0.7833731866730432.\n",
      "[I 2025-07-12 19:02:37,446] Trial 35 finished with value: 0.7735931771082417 and parameters: {'n_estimators': 162, 'max_depth': 10}. Best is trial 34 with value: 0.7833731866730432.\n",
      "[I 2025-07-12 19:02:37,849] Trial 36 finished with value: 0.7833731866730432 and parameters: {'n_estimators': 143, 'max_depth': 13}. Best is trial 34 with value: 0.7833731866730432.\n",
      "[I 2025-07-12 19:02:38,246] Trial 37 finished with value: 0.7833811573409851 and parameters: {'n_estimators': 141, 'max_depth': 13}. Best is trial 37 with value: 0.7833811573409851.\n",
      "[I 2025-07-12 19:02:38,628] Trial 38 finished with value: 0.7833731866730432 and parameters: {'n_estimators': 145, 'max_depth': 13}. Best is trial 37 with value: 0.7833811573409851.\n",
      "[I 2025-07-12 19:02:39,005] Trial 39 finished with value: 0.7768691216323927 and parameters: {'n_estimators': 143, 'max_depth': 12}. Best is trial 37 with value: 0.7833811573409851.\n",
      "[I 2025-07-12 19:02:39,439] Trial 40 finished with value: 0.7687151283277539 and parameters: {'n_estimators': 164, 'max_depth': 9}. Best is trial 37 with value: 0.7833811573409851.\n",
      "[I 2025-07-12 19:02:39,824] Trial 41 finished with value: 0.7849992029332058 and parameters: {'n_estimators': 147, 'max_depth': 13}. Best is trial 41 with value: 0.7849992029332058.\n",
      "[I 2025-07-12 19:02:40,238] Trial 42 finished with value: 0.7866331898613104 and parameters: {'n_estimators': 144, 'max_depth': 13}. Best is trial 42 with value: 0.7866331898613104.\n",
      "[I 2025-07-12 19:02:40,622] Trial 43 finished with value: 0.7833891280089271 and parameters: {'n_estimators': 133, 'max_depth': 14}. Best is trial 42 with value: 0.7866331898613104.\n",
      "[I 2025-07-12 19:02:40,971] Trial 44 finished with value: 0.771975131516021 and parameters: {'n_estimators': 128, 'max_depth': 11}. Best is trial 42 with value: 0.7866331898613104.\n",
      "[I 2025-07-12 19:02:41,350] Trial 45 finished with value: 0.780121154152718 and parameters: {'n_estimators': 135, 'max_depth': 14}. Best is trial 42 with value: 0.7866331898613104.\n",
      "[I 2025-07-12 19:02:41,667] Trial 46 finished with value: 0.7752431053722302 and parameters: {'n_estimators': 122, 'max_depth': 6}. Best is trial 42 with value: 0.7866331898613104.\n",
      "[I 2025-07-12 19:02:42,110] Trial 47 finished with value: 0.7768611509644509 and parameters: {'n_estimators': 156, 'max_depth': 12}. Best is trial 42 with value: 0.7866331898613104.\n",
      "[I 2025-07-12 19:02:42,521] Trial 48 finished with value: 0.7752191933684043 and parameters: {'n_estimators': 151, 'max_depth': 10}. Best is trial 42 with value: 0.7866331898613104.\n",
      "[I 2025-07-12 19:02:42,902] Trial 49 finished with value: 0.780113183484776 and parameters: {'n_estimators': 137, 'max_depth': 14}. Best is trial 42 with value: 0.7866331898613104.\n"
     ]
    }
   ],
   "source": [
    "# Create a study object and optimize the objective function\n",
    "study = optuna.create_study(direction='maximize', sampler=optuna.samplers.TPESampler())  # We aim to maximize accuracy\n",
    "study.optimize(objective, n_trials=50)  # Run 50 trials to find the best hyperparameters\n"
   ]
  },
  {
   "cell_type": "code",
   "execution_count": 15,
   "id": "0ee96521",
   "metadata": {},
   "outputs": [
    {
     "name": "stdout",
     "output_type": "stream",
     "text": [
      "Best trial accuracy: 0.7866331898613104\n",
      "Best hyperparameters: {'n_estimators': 144, 'max_depth': 13}\n"
     ]
    }
   ],
   "source": [
    "\n",
    "# Print the best result\n",
    "print(f'Best trial accuracy: {study.best_trial.value}')\n",
    "print(f'Best hyperparameters: {study.best_trial.params}')"
   ]
  },
  {
   "cell_type": "code",
   "execution_count": 16,
   "id": "3dad09ad",
   "metadata": {},
   "outputs": [
    {
     "name": "stdout",
     "output_type": "stream",
     "text": [
      "Test Accuracy with best hyperparameters: 0.75\n"
     ]
    }
   ],
   "source": [
    "from sklearn.metrics import accuracy_score\n",
    "\n",
    "# Train a RandomForestClassifier using the best hyperparameters from Optuna\n",
    "best_model = RandomForestClassifier(**study.best_trial.params, random_state=42)\n",
    "\n",
    "# Fit the model to the training data\n",
    "best_model.fit(X_train, y_train)\n",
    "\n",
    "# Make predictions on the test set\n",
    "y_pred = best_model.predict(X_test)\n",
    "\n",
    "# Calculate the accuracy on the test set\n",
    "test_accuracy = accuracy_score(y_test, y_pred)\n",
    "\n",
    "# Print the test accuracy\n",
    "print(f'Test Accuracy with best hyperparameters: {test_accuracy:.2f}')\n"
   ]
  },
  {
   "cell_type": "code",
   "execution_count": null,
   "id": "adee68b9",
   "metadata": {},
   "outputs": [],
   "source": [
    "from sklearn.ensemble import RandomForestClassifier\n",
    "from sklearn.model_selection import cross_val_score\n",
    "\n",
    "# Define the objective function\n",
    "def objective(trial):\n",
    "    # Suggest values for the hyperparameters\n",
    "    n_estimators = trial.suggest_int('n_estimators', 50, 200)\n",
    "    max_depth = trial.suggest_int('max_depth', 3, 20)\n",
    "\n",
    "    # Create the RandomForestClassifier with suggested hyperparameters\n",
    "    model = RandomForestClassifier(\n",
    "        n_estimators=n_estimators,\n",
    "        max_depth=max_depth,\n",
    "        random_state=42\n",
    "    )\n",
    "\n",
    "    # Perform 3-fold cross-validation and calculate accuracy\n",
    "    score = cross_val_score(model, X_train, y_train, cv=3, scoring='accuracy').mean()\n",
    "\n",
    "    return score  # Return the accuracy score for Optuna to maximize\n"
   ]
  }
 ],
 "metadata": {
  "kernelspec": {
   "display_name": ".machinelearning",
   "language": "python",
   "name": "python3"
  },
  "language_info": {
   "codemirror_mode": {
    "name": "ipython",
    "version": 3
   },
   "file_extension": ".py",
   "mimetype": "text/x-python",
   "name": "python",
   "nbconvert_exporter": "python",
   "pygments_lexer": "ipython3",
   "version": "3.13.5"
  }
 },
 "nbformat": 4,
 "nbformat_minor": 5
}
